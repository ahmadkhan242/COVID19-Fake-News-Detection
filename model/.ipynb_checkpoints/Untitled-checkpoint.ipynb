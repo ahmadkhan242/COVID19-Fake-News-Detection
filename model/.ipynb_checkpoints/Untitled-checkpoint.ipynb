{
 "cells": [
  {
   "cell_type": "code",
   "execution_count": 1,
   "metadata": {},
   "outputs": [],
   "source": [
    "import matplotlib.pyplot as plt\n",
    "import pandas as pd\n",
    "import numpy as np\n",
    "import json\n",
    "import re\n",
    "\n",
    "import xgboost as xgb\n",
    "from sklearn import metrics\n",
    "\n",
    "import warnings\n",
    "warnings.filterwarnings(\"ignore\")"
   ]
  },
  {
   "cell_type": "code",
   "execution_count": 2,
   "metadata": {},
   "outputs": [],
   "source": [
    "train1 = pd.read_csv(\"./hash_pre_lemm.csv\")\n",
    "train2 = pd.read_csv(\"./hash_pre.csv\")\n",
    "train3 = pd.read_csv(\"./pre.csv\")\n",
    "# Validation\n",
    "val1 = pd.read_csv(\"./val_hash_pre_lemm.csv\")\n",
    "val2 = pd.read_csv(\"./val_hash_pre.csv\")\n",
    "val3 = pd.read_csv(\"./val_pre.csv\")"
   ]
  },
  {
   "cell_type": "code",
   "execution_count": 3,
   "metadata": {},
   "outputs": [],
   "source": [
    "def simple_stopwatch_approach(X, y, val_X, val_y):\n",
    "    # Label encoding the classes\n",
    "#     encoder = LabelEncoder()\n",
    "#     y = encoder.fit_transform(y)\n",
    "#     val_y = encoder.fit_transform(val_y)\n",
    "    X_train, X_test, y_train, y_test = train_test_split(X, y, test_size=0.2, random_state = 42)\n",
    "    # Creating the vectorizer\n",
    "    tfidf = TfidfVectorizer(ngram_range=(1,2), max_features=1000, min_df=20, stop_words= STOPWORDS )\n",
    "    X_train = tfidf.fit_transform(X_train).toarray()\n",
    "    X_test = tfidf.transform(X_test).toarray()\n",
    "    val_X = tfidf.transform(val_X).toarray()\n",
    "    return X_train, X_test, y_train, y_test, val_X, val_y"
   ]
  },
  {
   "cell_type": "code",
   "execution_count": null,
   "metadata": {},
   "outputs": [],
   "source": []
  },
  {
   "cell_type": "code",
   "execution_count": null,
   "metadata": {},
   "outputs": [],
   "source": [
    "def xgboost(depth = 22, estimators=600, learning_rate=0.03):\n",
    "    '''Our XGBoost regression model'''\n",
    "    \n",
    "    print(\"\\nStarted with Depth: %s Estimators: %s\" %(depth,estimators))\n",
    "\n",
    "    model = xgb.XGBRegressor(max_depth=depth, n_estimators=estimators, learning_rate=learning_rate).fit(X_train, y_train)\n",
    "    predictions_test = model.predict(X_test)\n",
    "    \n",
    "    # Unscaling data for checking it in csv file\n",
    "    predictions_test_unscalled = np.round(target_scaler.inverse_transform(predictions_test))\n",
    "    y_test_unscalled = target_scaler.inverse_transform(y_test)\n",
    "    error = y_test_unscalled - predictions_test_unscalled\n",
    "    \n",
    "    score = metrics.r2_score(y_test, predictions_test)\n",
    "    print(\"Model R2 score: %.4f at Depth: %s Estimators: %s\" % (score , depth, estimators))\n",
    "    \n",
    "    actual_score = metrics.r2_score(y_test_unscalled, predictions_test_unscalled)\n",
    "    print(\"True R2 score after rounding: %.4f at Depth: %s Estimators: %s\" % (actual_score , depth, estimators))\n",
    "    \n",
    "    submission = pd.DataFrame({ 'True Requests': y_test_unscalled,\n",
    "                                'Predicted Requests': predictions_test_unscalled, \n",
    "                                'Error': error})\n",
    "    \n",
    "    #Predictions saved to local path\n",
    "    submission.to_csv(\"Predictions_d%s_e%s_RS%.4f.csv\" % (depth,estimators,score), index=False)\n",
    "    \n",
    "    fig, ax = plt.subplots(figsize=(12,20))\n",
    "    xgb.plot_importance(model, max_num_features=30, height=0.8, ax=ax)\n",
    "    plt.show()\n",
    "\n",
    "xgboost()"
   ]
  },
  {
   "cell_type": "code",
   "execution_count": null,
   "metadata": {},
   "outputs": [],
   "source": []
  },
  {
   "cell_type": "code",
   "execution_count": 4,
   "metadata": {},
   "outputs": [
    {
     "ename": "NameError",
     "evalue": "name 'train_list' is not defined",
     "output_type": "error",
     "traceback": [
      "\u001b[1;31m---------------------------------------------------------------------------\u001b[0m",
      "\u001b[1;31mNameError\u001b[0m                                 Traceback (most recent call last)",
      "\u001b[1;32m<ipython-input-4-56b8e3b9ec5d>\u001b[0m in \u001b[0;36m<module>\u001b[1;34m\u001b[0m\n\u001b[1;32m----> 1\u001b[1;33m \u001b[0mX_train\u001b[0m\u001b[1;33m,\u001b[0m \u001b[0mX_test\u001b[0m\u001b[1;33m,\u001b[0m \u001b[0my_train\u001b[0m\u001b[1;33m,\u001b[0m \u001b[0my_test\u001b[0m\u001b[1;33m,\u001b[0m\u001b[0mval_X\u001b[0m\u001b[1;33m,\u001b[0m \u001b[0mval_y\u001b[0m \u001b[1;33m=\u001b[0m \u001b[0msimple_stopwatch_approach\u001b[0m\u001b[1;33m(\u001b[0m\u001b[0mtrain_list\u001b[0m\u001b[1;33m[\u001b[0m\u001b[0mi\u001b[0m\u001b[1;33m]\u001b[0m\u001b[1;33m.\u001b[0m\u001b[0mtweet\u001b[0m \u001b[1;33m,\u001b[0m\u001b[0mtrain_list\u001b[0m\u001b[1;33m[\u001b[0m\u001b[0mi\u001b[0m\u001b[1;33m]\u001b[0m\u001b[1;33m[\u001b[0m\u001b[0mc\u001b[0m\u001b[1;33m]\u001b[0m \u001b[1;33m,\u001b[0m \u001b[0mval_list\u001b[0m\u001b[1;33m[\u001b[0m\u001b[0mi\u001b[0m\u001b[1;33m]\u001b[0m\u001b[1;33m.\u001b[0m\u001b[0mtweet\u001b[0m \u001b[1;33m,\u001b[0m \u001b[0mval_list\u001b[0m\u001b[1;33m[\u001b[0m\u001b[0mi\u001b[0m\u001b[1;33m]\u001b[0m\u001b[1;33m[\u001b[0m\u001b[0mc\u001b[0m\u001b[1;33m]\u001b[0m \u001b[1;33m)\u001b[0m\u001b[1;33m\u001b[0m\u001b[1;33m\u001b[0m\u001b[0m\n\u001b[0m",
      "\u001b[1;31mNameError\u001b[0m: name 'train_list' is not defined"
     ]
    }
   ],
   "source": [
    "X_train, X_test, y_train, y_test,val_X, val_y = simple_stopwatch_approach(train_list[i].tweet ,train_list[i][c] , val_list[i].tweet , val_list[i][c] )"
   ]
  },
  {
   "cell_type": "code",
   "execution_count": null,
   "metadata": {},
   "outputs": [],
   "source": []
  },
  {
   "cell_type": "code",
   "execution_count": null,
   "metadata": {},
   "outputs": [],
   "source": []
  },
  {
   "cell_type": "code",
   "execution_count": null,
   "metadata": {},
   "outputs": [],
   "source": []
  },
  {
   "cell_type": "code",
   "execution_count": null,
   "metadata": {},
   "outputs": [],
   "source": []
  },
  {
   "cell_type": "code",
   "execution_count": null,
   "metadata": {},
   "outputs": [],
   "source": []
  },
  {
   "cell_type": "code",
   "execution_count": null,
   "metadata": {},
   "outputs": [],
   "source": []
  }
 ],
 "metadata": {
  "kernelspec": {
   "display_name": "Python (tensorflow GPU)",
   "language": "python",
   "name": "tf_gpu"
  },
  "language_info": {
   "codemirror_mode": {
    "name": "ipython",
    "version": 3
   },
   "file_extension": ".py",
   "mimetype": "text/x-python",
   "name": "python",
   "nbconvert_exporter": "python",
   "pygments_lexer": "ipython3",
   "version": "3.7.6"
  }
 },
 "nbformat": 4,
 "nbformat_minor": 4
}
