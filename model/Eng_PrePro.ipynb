{
 "cells": [
  {
   "cell_type": "code",
   "execution_count": 45,
   "metadata": {},
   "outputs": [],
   "source": [
    "import pandas as pd"
   ]
  },
  {
   "cell_type": "code",
   "execution_count": null,
   "metadata": {},
   "outputs": [],
   "source": []
  },
  {
   "cell_type": "code",
   "execution_count": 46,
   "metadata": {},
   "outputs": [],
   "source": [
    "df = pd.read_csv(\"../../dataset/English/train.csv\")\n",
    "val = pd.read_csv(\"../../dataset/English/validation.csv\")"
   ]
  },
  {
   "cell_type": "code",
   "execution_count": 47,
   "metadata": {},
   "outputs": [
    {
     "name": "stdout",
     "output_type": "stream",
     "text": [
      "<class 'pandas.core.frame.DataFrame'>\n",
      "RangeIndex: 2140 entries, 0 to 2139\n",
      "Data columns (total 3 columns):\n",
      " #   Column  Non-Null Count  Dtype \n",
      "---  ------  --------------  ----- \n",
      " 0   id      2140 non-null   int64 \n",
      " 1   tweet   2140 non-null   object\n",
      " 2   label   2140 non-null   object\n",
      "dtypes: int64(1), object(2)\n",
      "memory usage: 50.3+ KB\n"
     ]
    }
   ],
   "source": [
    "val.info()"
   ]
  },
  {
   "cell_type": "code",
   "execution_count": 48,
   "metadata": {},
   "outputs": [
    {
     "name": "stdout",
     "output_type": "stream",
     "text": [
      "<class 'pandas.core.frame.DataFrame'>\n",
      "RangeIndex: 6420 entries, 0 to 6419\n",
      "Data columns (total 3 columns):\n",
      " #   Column  Non-Null Count  Dtype \n",
      "---  ------  --------------  ----- \n",
      " 0   id      6420 non-null   int64 \n",
      " 1   tweet   6420 non-null   object\n",
      " 2   label   6420 non-null   object\n",
      "dtypes: int64(1), object(2)\n",
      "memory usage: 150.6+ KB\n"
     ]
    }
   ],
   "source": [
    "df.info()"
   ]
  },
  {
   "cell_type": "code",
   "execution_count": 49,
   "metadata": {},
   "outputs": [
    {
     "data": {
      "text/plain": [
       "0       fake\n",
       "1       fake\n",
       "2       fake\n",
       "3       fake\n",
       "4       real\n",
       "        ... \n",
       "2135    fake\n",
       "2136    real\n",
       "2137    fake\n",
       "2138    fake\n",
       "2139    real\n",
       "Name: label, Length: 2140, dtype: object"
      ]
     },
     "execution_count": 49,
     "metadata": {},
     "output_type": "execute_result"
    }
   ],
   "source": [
    "val.label"
   ]
  },
  {
   "cell_type": "code",
   "execution_count": null,
   "metadata": {},
   "outputs": [],
   "source": []
  },
  {
   "cell_type": "code",
   "execution_count": 39,
   "metadata": {},
   "outputs": [],
   "source": [
    "a = pd.get_dummies(df.label)\n",
    "df_dict = {\n",
    "    \"id\": df.id,\n",
    "    \"tweet\": df.tweet,\n",
    "    \"fake\": a.fake,\n",
    "    \"real\": a.real\n",
    "}\n",
    "df = pd.DataFrame(df_dict)\n"
   ]
  },
  {
   "cell_type": "code",
   "execution_count": 40,
   "metadata": {},
   "outputs": [],
   "source": [
    "# Validation\n",
    "b = pd.get_dummies(val.label)\n",
    "val_dict = {\n",
    "    \"id\": val.id,\n",
    "    \"tweet\": val.tweet,\n",
    "    \"fake\": b.fake,\n",
    "    \"real\": b.real\n",
    "}\n",
    "val = pd.DataFrame(val_dict)"
   ]
  },
  {
   "cell_type": "code",
   "execution_count": null,
   "metadata": {},
   "outputs": [],
   "source": []
  },
  {
   "cell_type": "code",
   "execution_count": null,
   "metadata": {},
   "outputs": [],
   "source": []
  },
  {
   "cell_type": "code",
   "execution_count": 54,
   "metadata": {},
   "outputs": [
    {
     "name": "stdout",
     "output_type": "stream",
     "text": [
      "The CDC currently reports 99031 deaths. In general the discrepancies in death counts between different sources are small and explicable. The death toll stands at roughly 100000 people today.\n",
      "States reported 1121 deaths a small rise from last Tuesday. Southern states reported 640 of those deaths. https://t.co/YASGRTT4ux\n",
      "Politically Correct Woman (Almost) Uses Pandemic as Excuse Not to Reuse Plastic Bag https://t.co/thF8GuNFPe #coronavirus #nashville\n",
      "#IndiaFightsCorona: We have 1524 #COVID testing laboratories in India and as on 25th August 2020 36827520 tests have been done : @ProfBhargava DG @ICMRDELHI #StaySafe #IndiaWillWin https://t.co/Yh3ZxknnhZ\n",
      "Populous states can generate large case counts but if you look at the new cases per million today 9 smaller states are showing more cases per million than California or Texas: AL AR ID KS KY LA MS NV and SC. https://t.co/1pYW6cWRaS\n",
      "Covid Act Now found \"on average each person in Illinois with COVID-19 is infecting 1.11 other people. Data shows that the infection growth rate has declined over time this factors in the stay-at-home order and other restrictions put in place.\" https://t.co/hhigDd24fE\n",
      "If you tested positive for #COVID19 and have no symptoms stay home and away from other people. Learn more about CDC’s recommendations about when you can be around others after COVID-19 infection: https://t.co/z5kkXpqkYb. https://t.co/9PaMy0Rxaf\n",
      "Obama Calls Trump’s Coronavirus Response A Chaotic Disaster https://t.co/DeDqZEhAsB\n",
      "???Clearly, the Obama administration did not leave any kind of game plan for something like this.??�\n",
      "Retraction—Hydroxychloroquine or chloroquine with or without a macrolide for treatment of COVID-19: a multinational registry analysis - The Lancet https://t.co/L5V2x6G9or\n"
     ]
    }
   ],
   "source": [
    "for a in df.tweet.head(10):\n",
    "    print(a)"
   ]
  },
  {
   "cell_type": "code",
   "execution_count": 50,
   "metadata": {},
   "outputs": [],
   "source": [
    "from prepro import hashtag_segment, text_preprocess, stem, lemm"
   ]
  },
  {
   "cell_type": "code",
   "execution_count": 51,
   "metadata": {},
   "outputs": [],
   "source": [
    "df['tweet'] = df['tweet'].apply(text_preprocess)\n",
    "df['tweet'] = df['tweet'].apply(hashtag_segment)"
   ]
  },
  {
   "cell_type": "code",
   "execution_count": 52,
   "metadata": {},
   "outputs": [],
   "source": [
    "# Validation\n",
    "val['tweet'] = val['tweet'].apply(text_preprocess)\n",
    "val['tweet'] = val['tweet'].apply(hashtag_segment)"
   ]
  },
  {
   "cell_type": "code",
   "execution_count": 53,
   "metadata": {},
   "outputs": [],
   "source": [
    "df.to_csv('hash_pre1.csv', index = False)"
   ]
  },
  {
   "cell_type": "code",
   "execution_count": 54,
   "metadata": {},
   "outputs": [],
   "source": [
    "val.to_csv('val_hash_pre1.csv', index = False)"
   ]
  },
  {
   "cell_type": "markdown",
   "metadata": {},
   "source": [
    "## Dataset two"
   ]
  },
  {
   "cell_type": "code",
   "execution_count": 46,
   "metadata": {},
   "outputs": [],
   "source": [
    "df['tweet'] = df['tweet'].apply(text_preprocess)"
   ]
  },
  {
   "cell_type": "code",
   "execution_count": 33,
   "metadata": {},
   "outputs": [],
   "source": [
    "val['tweet'] = val['tweet'].apply(text_preprocess)"
   ]
  },
  {
   "cell_type": "code",
   "execution_count": 8,
   "metadata": {},
   "outputs": [
    {
     "name": "stdout",
     "output_type": "stream",
     "text": [
      "the cdc currently report number death in general discrepancy death count different source small explicable the death toll stand roughly number people today\n",
      "state reported number death small rise last tuesday southern state reported number death url\n",
      "politically correct woman almost us pandemic excuse not reuse plastic bag url coronavirus nashville\n",
      "india fight corona we number co vid testing laboratory india number th august number number test done user dg user stay safe india win url\n",
      "populous state generate large case count look new case per million today number smaller state showing case per million california texas al ar id k ky la m nv sc url\n",
      "co vid act now found on average person illinois co vid number infecting number people data show infection growth rate declined time factor stay at home order restriction put place url\n",
      "if tested positive co vid number symptom stay home away people learn cdc s recommendation around others co vid number infection url url\n",
      "obama call trump s coronavirus response a chaotic disaster url\n",
      "repeat clearly obama administration leave kind game plan something like this repeat\n",
      "retraction hydroxychloroquine chloroquine without macrolide treatment co vid number multinational registry analysis the lancet url\n"
     ]
    }
   ],
   "source": [
    "for a in df.tweet.head(10):\n",
    "    print(a)"
   ]
  },
  {
   "cell_type": "code",
   "execution_count": 49,
   "metadata": {},
   "outputs": [],
   "source": [
    "df.to_csv('pre.csv', index = False)"
   ]
  },
  {
   "cell_type": "code",
   "execution_count": 34,
   "metadata": {},
   "outputs": [],
   "source": [
    "val.to_csv('val_pre.csv', index = False)"
   ]
  },
  {
   "cell_type": "markdown",
   "metadata": {},
   "source": [
    "## Dataset 3"
   ]
  },
  {
   "cell_type": "code",
   "execution_count": 7,
   "metadata": {},
   "outputs": [],
   "source": [
    "df['tweet'] = df['tweet'].apply(lemm)"
   ]
  },
  {
   "cell_type": "code",
   "execution_count": 43,
   "metadata": {},
   "outputs": [],
   "source": [
    "val['tweet'] = val['tweet'].apply(lemm)"
   ]
  },
  {
   "cell_type": "code",
   "execution_count": 10,
   "metadata": {},
   "outputs": [],
   "source": [
    "df.to_csv('hash_pre_lemm.csv', index = False)"
   ]
  },
  {
   "cell_type": "code",
   "execution_count": 44,
   "metadata": {},
   "outputs": [],
   "source": [
    "val.to_csv('val_hash_pre_lemm.csv', index = False)"
   ]
  },
  {
   "cell_type": "code",
   "execution_count": 9,
   "metadata": {},
   "outputs": [
    {
     "name": "stdout",
     "output_type": "stream",
     "text": [
      "the cdc currently report number death in general discrepancy death count different source small explicable the death toll stand roughly number people today\n",
      "state reported number death small rise last tuesday southern state reported number death url\n",
      "politically correct woman almost us pandemic excuse not reuse plastic bag url coronavirus nashville\n",
      "india fight corona we number co vid testing laboratory india number th august number number test done user dg user stay safe india win url\n",
      "populous state generate large case count look new case per million today number smaller state showing case per million california texas al ar id k ky la m nv sc url\n",
      "co vid act now found on average person illinois co vid number infecting number people data show infection growth rate declined time factor stay at home order restriction put place url\n",
      "if tested positive co vid number symptom stay home away people learn cdc s recommendation around others co vid number infection url url\n",
      "obama call trump s coronavirus response a chaotic disaster url\n",
      "repeat clearly obama administration leave kind game plan something like this repeat\n",
      "retraction hydroxychloroquine chloroquine without macrolide treatment co vid number multinational registry analysis the lancet url\n"
     ]
    }
   ],
   "source": [
    "for a in df.tweet.head(10):\n",
    "    print(a)"
   ]
  },
  {
   "cell_type": "code",
   "execution_count": 2,
   "metadata": {},
   "outputs": [],
   "source": [
    "df = pd.read_csv(\"./hash_pre_lemm.csv\")"
   ]
  },
  {
   "cell_type": "code",
   "execution_count": 3,
   "metadata": {},
   "outputs": [
    {
     "name": "stdout",
     "output_type": "stream",
     "text": [
      "the cdc currently report number death in general discrepancy death count different source small explicable the death toll stand roughly number people today\n",
      "state reported number death small rise last tuesday southern state reported number death url\n",
      "politically correct woman almost us pandemic excuse not reuse plastic bag url coronavirus nashville\n",
      "india fight corona we number co vid testing laboratory india number th august number number test done user dg user stay safe india win url\n",
      "populous state generate large case count look new case per million today number smaller state showing case per million california texas al ar id k ky la m nv sc url\n",
      "co vid act now found on average person illinois co vid number infecting number people data show infection growth rate declined time factor stay at home order restriction put place url\n",
      "if tested positive co vid number symptom stay home away people learn cdc s recommendation around others co vid number infection url url\n",
      "obama call trump s coronavirus response a chaotic disaster url\n",
      "repeat clearly obama administration leave kind game plan something like this repeat\n",
      "retraction hydroxychloroquine chloroquine without macrolide treatment co vid number multinational registry analysis the lancet url\n"
     ]
    }
   ],
   "source": [
    "for a in df.tweet.head(10):\n",
    "    print(a)"
   ]
  },
  {
   "cell_type": "code",
   "execution_count": 4,
   "metadata": {},
   "outputs": [
    {
     "data": {
      "text/html": [
       "<div>\n",
       "<style scoped>\n",
       "    .dataframe tbody tr th:only-of-type {\n",
       "        vertical-align: middle;\n",
       "    }\n",
       "\n",
       "    .dataframe tbody tr th {\n",
       "        vertical-align: top;\n",
       "    }\n",
       "\n",
       "    .dataframe thead th {\n",
       "        text-align: right;\n",
       "    }\n",
       "</style>\n",
       "<table border=\"1\" class=\"dataframe\">\n",
       "  <thead>\n",
       "    <tr style=\"text-align: right;\">\n",
       "      <th></th>\n",
       "      <th>id</th>\n",
       "      <th>tweet</th>\n",
       "      <th>fake</th>\n",
       "      <th>real</th>\n",
       "    </tr>\n",
       "  </thead>\n",
       "  <tbody>\n",
       "    <tr>\n",
       "      <th>0</th>\n",
       "      <td>1</td>\n",
       "      <td>the cdc currently report number death in gener...</td>\n",
       "      <td>0</td>\n",
       "      <td>1</td>\n",
       "    </tr>\n",
       "    <tr>\n",
       "      <th>1</th>\n",
       "      <td>2</td>\n",
       "      <td>state reported number death small rise last tu...</td>\n",
       "      <td>0</td>\n",
       "      <td>1</td>\n",
       "    </tr>\n",
       "    <tr>\n",
       "      <th>2</th>\n",
       "      <td>3</td>\n",
       "      <td>politically correct woman almost us pandemic e...</td>\n",
       "      <td>1</td>\n",
       "      <td>0</td>\n",
       "    </tr>\n",
       "    <tr>\n",
       "      <th>3</th>\n",
       "      <td>4</td>\n",
       "      <td>india fight corona we number co vid testing la...</td>\n",
       "      <td>0</td>\n",
       "      <td>1</td>\n",
       "    </tr>\n",
       "    <tr>\n",
       "      <th>4</th>\n",
       "      <td>5</td>\n",
       "      <td>populous state generate large case count look ...</td>\n",
       "      <td>0</td>\n",
       "      <td>1</td>\n",
       "    </tr>\n",
       "  </tbody>\n",
       "</table>\n",
       "</div>"
      ],
      "text/plain": [
       "   id                                              tweet  fake  real\n",
       "0   1  the cdc currently report number death in gener...     0     1\n",
       "1   2  state reported number death small rise last tu...     0     1\n",
       "2   3  politically correct woman almost us pandemic e...     1     0\n",
       "3   4  india fight corona we number co vid testing la...     0     1\n",
       "4   5  populous state generate large case count look ...     0     1"
      ]
     },
     "execution_count": 4,
     "metadata": {},
     "output_type": "execute_result"
    }
   ],
   "source": [
    "df.head()"
   ]
  },
  {
   "cell_type": "code",
   "execution_count": null,
   "metadata": {},
   "outputs": [],
   "source": []
  }
 ],
 "metadata": {
  "kernelspec": {
   "display_name": "Python (tensorflow GPU)",
   "language": "python",
   "name": "tf_gpu"
  },
  "language_info": {
   "codemirror_mode": {
    "name": "ipython",
    "version": 3
   },
   "file_extension": ".py",
   "mimetype": "text/x-python",
   "name": "python",
   "nbconvert_exporter": "python",
   "pygments_lexer": "ipython3",
   "version": "3.7.6"
  }
 },
 "nbformat": 4,
 "nbformat_minor": 4
}
