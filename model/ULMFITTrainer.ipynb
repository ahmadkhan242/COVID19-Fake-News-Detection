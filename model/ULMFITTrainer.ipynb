{
  "nbformat": 4,
  "nbformat_minor": 0,
  "metadata": {
    "colab": {
      "name": "ULMFITTrainer.ipynb",
      "provenance": [],
      "collapsed_sections": []
    },
    "kernelspec": {
      "name": "python3",
      "display_name": "Python 3"
    }
  },
  "cells": [
    {
      "cell_type": "code",
      "metadata": {
        "id": "7BLx69FmLXkO"
      },
      "source": [
        "# Installing torch_nightly and fastai \n",
        "!pip install torch_nightly -f https://download.pytorch.org/whl/nightly/cu92/torch_nightly.html  gwpy &> /dev/null\n",
        "!pip install fastai  gwpy &> /dev/null"
      ],
      "execution_count": null,
      "outputs": []
    },
    {
      "cell_type": "code",
      "metadata": {
        "id": "07Ay4WkPLaG3"
      },
      "source": [
        "# import libraries\n",
        "\n",
        "from fastai import * \n",
        "import pandas as pd\n",
        "import numpy as np\n",
        "from functools import partial\n",
        "import io\n",
        "import os\n",
        "from fastai.text import *"
      ],
      "execution_count": null,
      "outputs": []
    },
    {
      "cell_type": "code",
      "metadata": {
        "id": "oyDS7FdYLyLG"
      },
      "source": [
        "dfTrain = pd.read_csv('/content/trainWithoutPreProcess.csv')\n",
        "dfValidation = pd.read_csv('/content/validationWithoutPreProcess.csv')"
      ],
      "execution_count": null,
      "outputs": []
    },
    {
      "cell_type": "code",
      "metadata": {
        "colab": {
          "base_uri": "https://localhost:8080/",
          "height": 194
        },
        "id": "64ssbgZZMFzR",
        "outputId": "85119e54-c209-4573-8aa9-a7e9ec7068c5"
      },
      "source": [
        "dfTrain = dfTrain.drop(columns=['id'])\n",
        "dfTrain = dfTrain[[\"label\", \"tweet\"]]\n",
        "dfTrain.head()"
      ],
      "execution_count": null,
      "outputs": [
        {
          "output_type": "execute_result",
          "data": {
            "text/html": [
              "<div>\n",
              "<style scoped>\n",
              "    .dataframe tbody tr th:only-of-type {\n",
              "        vertical-align: middle;\n",
              "    }\n",
              "\n",
              "    .dataframe tbody tr th {\n",
              "        vertical-align: top;\n",
              "    }\n",
              "\n",
              "    .dataframe thead th {\n",
              "        text-align: right;\n",
              "    }\n",
              "</style>\n",
              "<table border=\"1\" class=\"dataframe\">\n",
              "  <thead>\n",
              "    <tr style=\"text-align: right;\">\n",
              "      <th></th>\n",
              "      <th>label</th>\n",
              "      <th>tweet</th>\n",
              "    </tr>\n",
              "  </thead>\n",
              "  <tbody>\n",
              "    <tr>\n",
              "      <th>0</th>\n",
              "      <td>real</td>\n",
              "      <td>The CDC currently reports 99031 deaths. In gen...</td>\n",
              "    </tr>\n",
              "    <tr>\n",
              "      <th>1</th>\n",
              "      <td>real</td>\n",
              "      <td>States reported 1121 deaths a small rise from ...</td>\n",
              "    </tr>\n",
              "    <tr>\n",
              "      <th>2</th>\n",
              "      <td>fake</td>\n",
              "      <td>Politically Correct Woman (Almost) Uses Pandem...</td>\n",
              "    </tr>\n",
              "    <tr>\n",
              "      <th>3</th>\n",
              "      <td>real</td>\n",
              "      <td>#IndiaFightsCorona: We have 1524 #COVID testin...</td>\n",
              "    </tr>\n",
              "    <tr>\n",
              "      <th>4</th>\n",
              "      <td>real</td>\n",
              "      <td>Populous states can generate large case counts...</td>\n",
              "    </tr>\n",
              "  </tbody>\n",
              "</table>\n",
              "</div>"
            ],
            "text/plain": [
              "  label                                              tweet\n",
              "0  real  The CDC currently reports 99031 deaths. In gen...\n",
              "1  real  States reported 1121 deaths a small rise from ...\n",
              "2  fake  Politically Correct Woman (Almost) Uses Pandem...\n",
              "3  real  #IndiaFightsCorona: We have 1524 #COVID testin...\n",
              "4  real  Populous states can generate large case counts..."
            ]
          },
          "metadata": {
            "tags": []
          },
          "execution_count": 5
        }
      ]
    },
    {
      "cell_type": "code",
      "metadata": {
        "colab": {
          "base_uri": "https://localhost:8080/",
          "height": 194
        },
        "id": "dAXXXUrmMIQP",
        "outputId": "6f0ca920-950d-4021-cedf-2add5a151418"
      },
      "source": [
        "dfValidation = dfValidation.drop(columns=['id'])\n",
        "dfValidation = dfValidation[[\"label\", \"tweet\"]]\n",
        "dfValidation.head()"
      ],
      "execution_count": null,
      "outputs": [
        {
          "output_type": "execute_result",
          "data": {
            "text/html": [
              "<div>\n",
              "<style scoped>\n",
              "    .dataframe tbody tr th:only-of-type {\n",
              "        vertical-align: middle;\n",
              "    }\n",
              "\n",
              "    .dataframe tbody tr th {\n",
              "        vertical-align: top;\n",
              "    }\n",
              "\n",
              "    .dataframe thead th {\n",
              "        text-align: right;\n",
              "    }\n",
              "</style>\n",
              "<table border=\"1\" class=\"dataframe\">\n",
              "  <thead>\n",
              "    <tr style=\"text-align: right;\">\n",
              "      <th></th>\n",
              "      <th>label</th>\n",
              "      <th>tweet</th>\n",
              "    </tr>\n",
              "  </thead>\n",
              "  <tbody>\n",
              "    <tr>\n",
              "      <th>0</th>\n",
              "      <td>fake</td>\n",
              "      <td>Chinese converting to Islam after realising th...</td>\n",
              "    </tr>\n",
              "    <tr>\n",
              "      <th>1</th>\n",
              "      <td>fake</td>\n",
              "      <td>11 out of 13 people (from the Diamond Princess...</td>\n",
              "    </tr>\n",
              "    <tr>\n",
              "      <th>2</th>\n",
              "      <td>fake</td>\n",
              "      <td>COVID-19 Is Caused By A Bacterium, Not Virus A...</td>\n",
              "    </tr>\n",
              "    <tr>\n",
              "      <th>3</th>\n",
              "      <td>fake</td>\n",
              "      <td>Mike Pence in RNC speech praises Donald Trump’...</td>\n",
              "    </tr>\n",
              "    <tr>\n",
              "      <th>4</th>\n",
              "      <td>real</td>\n",
              "      <td>6/10 Sky's @EdConwaySky explains the latest #C...</td>\n",
              "    </tr>\n",
              "  </tbody>\n",
              "</table>\n",
              "</div>"
            ],
            "text/plain": [
              "  label                                              tweet\n",
              "0  fake  Chinese converting to Islam after realising th...\n",
              "1  fake  11 out of 13 people (from the Diamond Princess...\n",
              "2  fake  COVID-19 Is Caused By A Bacterium, Not Virus A...\n",
              "3  fake  Mike Pence in RNC speech praises Donald Trump’...\n",
              "4  real  6/10 Sky's @EdConwaySky explains the latest #C..."
            ]
          },
          "metadata": {
            "tags": []
          },
          "execution_count": 6
        }
      ]
    },
    {
      "cell_type": "code",
      "metadata": {
        "colab": {
          "base_uri": "https://localhost:8080/",
          "height": 17
        },
        "id": "tfJ8zgMxLyI5",
        "outputId": "be6cd1d1-9ee1-4fef-b820-469f6b2b2985"
      },
      "source": [
        "# Language model data\n",
        "data_lm = TextLMDataBunch.from_df(train_df = dfTrain, valid_df = dfValidation, path = \"\")"
      ],
      "execution_count": null,
      "outputs": [
        {
          "output_type": "display_data",
          "data": {
            "text/html": [
              ""
            ],
            "text/plain": [
              "<IPython.core.display.HTML object>"
            ]
          },
          "metadata": {
            "tags": []
          }
        },
        {
          "output_type": "display_data",
          "data": {
            "text/html": [
              ""
            ],
            "text/plain": [
              "<IPython.core.display.HTML object>"
            ]
          },
          "metadata": {
            "tags": []
          }
        }
      ]
    },
    {
      "cell_type": "code",
      "metadata": {
        "colab": {
          "base_uri": "https://localhost:8080/",
          "height": 17
        },
        "id": "Q-eJlEEeLyG5",
        "outputId": "520ca6c7-b489-4e87-b4bc-6d663608d177"
      },
      "source": [
        "data_clas = TextClasDataBunch.from_df(train_df = dfTrain, valid_df = dfValidation, path = \"\", vocab=data_lm.train_ds.vocab, bs=32)"
      ],
      "execution_count": null,
      "outputs": [
        {
          "output_type": "display_data",
          "data": {
            "text/html": [
              ""
            ],
            "text/plain": [
              "<IPython.core.display.HTML object>"
            ]
          },
          "metadata": {
            "tags": []
          }
        },
        {
          "output_type": "display_data",
          "data": {
            "text/html": [
              ""
            ],
            "text/plain": [
              "<IPython.core.display.HTML object>"
            ]
          },
          "metadata": {
            "tags": []
          }
        }
      ]
    },
    {
      "cell_type": "code",
      "metadata": {
        "colab": {
          "base_uri": "https://localhost:8080/",
          "height": 278
        },
        "id": "nPvir7L1LyEH",
        "outputId": "15ed619b-0419-4aa9-c835-2ba6530cbca8"
      },
      "source": [
        "data_clas.show_batch()"
      ],
      "execution_count": null,
      "outputs": [
        {
          "output_type": "display_data",
          "data": {
            "text/html": [
              "<table border=\"1\" class=\"dataframe\">\n",
              "  <thead>\n",
              "    <tr style=\"text-align: right;\">\n",
              "      <th>text</th>\n",
              "      <th>target</th>\n",
              "    </tr>\n",
              "  </thead>\n",
              "  <tbody>\n",
              "    <tr>\n",
              "      <td>xxbos xxmaj xxunk \" xxmaj xxunk made in xxup us is the only medicine that can completely cure xxup covid-19 . \\n  xxmaj egyptian xxmaj health xxmaj minister arrive in xxmaj italy with secret coronavirus cure . \\n  xxmaj dr xxmaj charles xxmaj lieber a xxmaj harvard professor has been arrested in the xxup usa for manufacturing the coronavirus and selling it to xxmaj china . a video</td>\n",
              "      <td>fake</td>\n",
              "    </tr>\n",
              "    <tr>\n",
              "      <td>xxbos xxmaj man visited xxmaj albany xxup n.y. days before dying from coronavirus . ” \\n  a video ( allegedly ) of the xxmaj hospital das xxmaj clínicas xxmaj são xxmaj paulo . xxmaj it shows an empty waiting room . xxmaj the person filming says that the government is lying when it says there are xxup covid-19 patients in the hospital . \\n  xxup us state -</td>\n",
              "      <td>fake</td>\n",
              "    </tr>\n",
              "    <tr>\n",
              "      <td>xxbos xxup covid-19 , xxmaj take one xxunk and read . xxmaj be understanding ! ! ! a xxmaj japanese doctor offers xxunk advise on preventing xxup covid-19 . xxmaj new coronavirus may not show symptoms for several days ( 14 - 27 days ) . xxmaj how can one know if the person is infected ? xxmaj by the time he has a fever and / or a cough</td>\n",
              "      <td>fake</td>\n",
              "    </tr>\n",
              "    <tr>\n",
              "      <td>xxbos xxmaj please xxunk to your contacts in xxmaj india . xxmaj you never know who it may help . xxmaj tata xxmaj group has started good initiative , they are providing free doctors consultation online through xxunk . xxmaj this facility is started for you so that you need not to go out for doctors and you will be safe at home . \\n \\n  xxmaj below is</td>\n",
              "      <td>fake</td>\n",
              "    </tr>\n",
              "    <tr>\n",
              "      <td>xxbos xxmaj messed up with wrong person . xxmaj corona . xxmaj spitting on face xxmaj new \\n  xxmaj york , an islamic jihadi xxunk into a metro coach passenger just as the \\n  door xxunk . xxmaj unfortunately the low xxup xxunk jihadi picked on wrong person , he \\n  forced the train door open , xxunk the jihadi to xxunk and then made him \\n</td>\n",
              "      <td>fake</td>\n",
              "    </tr>\n",
              "  </tbody>\n",
              "</table>"
            ],
            "text/plain": [
              "<IPython.core.display.HTML object>"
            ]
          },
          "metadata": {
            "tags": []
          }
        }
      ]
    },
    {
      "cell_type": "code",
      "metadata": {
        "id": "o-TtfeUrLx_f",
        "colab": {
          "base_uri": "https://localhost:8080/",
          "height": 35
        },
        "outputId": "6a3a2250-01b9-4d81-a911-c2fc873a1e40"
      },
      "source": [
        "learn = language_model_learner(data_lm, AWD_LSTM, drop_mult=0.3)"
      ],
      "execution_count": null,
      "outputs": [
        {
          "output_type": "stream",
          "text": [
            "Downloading https://s3.amazonaws.com/fast-ai-modelzoo/wt103-fwd.tgz\n"
          ],
          "name": "stdout"
        },
        {
          "output_type": "display_data",
          "data": {
            "text/html": [
              ""
            ],
            "text/plain": [
              "<IPython.core.display.HTML object>"
            ]
          },
          "metadata": {
            "tags": []
          }
        }
      ]
    },
    {
      "cell_type": "code",
      "metadata": {
        "colab": {
          "base_uri": "https://localhost:8080/",
          "height": 438
        },
        "id": "p1hju-PhM1Gg",
        "outputId": "7b7b3af3-94c6-4229-dc8b-0d263c10791d"
      },
      "source": [
        "learn.lr_find()\n",
        "learn.recorder.plot(suggestion=True)\n",
        "min_grad_lr = learn.recorder.min_grad_lr"
      ],
      "execution_count": null,
      "outputs": [
        {
          "output_type": "display_data",
          "data": {
            "text/html": [
              "\n",
              "    <div>\n",
              "        <style>\n",
              "            /* Turns off some styling */\n",
              "            progress {\n",
              "                /* gets rid of default border in Firefox and Opera. */\n",
              "                border: none;\n",
              "                /* Needs to be in here for Safari polyfill so background images work as expected. */\n",
              "                background-size: auto;\n",
              "            }\n",
              "            .progress-bar-interrupted, .progress-bar-interrupted::-webkit-progress-bar {\n",
              "                background: #F44336;\n",
              "            }\n",
              "        </style>\n",
              "      <progress value='1' class='' max='2' style='width:300px; height:20px; vertical-align: middle;'></progress>\n",
              "      50.00% [1/2 08:32<08:32]\n",
              "    </div>\n",
              "    \n",
              "<table border=\"1\" class=\"dataframe\">\n",
              "  <thead>\n",
              "    <tr style=\"text-align: left;\">\n",
              "      <th>epoch</th>\n",
              "      <th>train_loss</th>\n",
              "      <th>valid_loss</th>\n",
              "      <th>accuracy</th>\n",
              "      <th>time</th>\n",
              "    </tr>\n",
              "  </thead>\n",
              "  <tbody>\n",
              "    <tr>\n",
              "      <td>0</td>\n",
              "      <td>5.705343</td>\n",
              "      <td>#na#</td>\n",
              "      <td>08:32</td>\n",
              "    </tr>\n",
              "  </tbody>\n",
              "</table><p>\n",
              "\n",
              "    <div>\n",
              "        <style>\n",
              "            /* Turns off some styling */\n",
              "            progress {\n",
              "                /* gets rid of default border in Firefox and Opera. */\n",
              "                border: none;\n",
              "                /* Needs to be in here for Safari polyfill so background images work as expected. */\n",
              "                background-size: auto;\n",
              "            }\n",
              "            .progress-bar-interrupted, .progress-bar-interrupted::-webkit-progress-bar {\n",
              "                background: #F44336;\n",
              "            }\n",
              "        </style>\n",
              "      <progress value='38' class='' max='61' style='width:300px; height:20px; vertical-align: middle;'></progress>\n",
              "      62.30% [38/61 07:38<04:37 9.5248]\n",
              "    </div>\n",
              "    "
            ],
            "text/plain": [
              "<IPython.core.display.HTML object>"
            ]
          },
          "metadata": {
            "tags": []
          }
        },
        {
          "output_type": "stream",
          "text": [
            "LR Finder is complete, type {learner_name}.recorder.plot() to see the graph.\n",
            "Min numerical gradient: 1.00E-01\n",
            "Min loss divided by 10: 4.37E-02\n"
          ],
          "name": "stdout"
        },
        {
          "output_type": "display_data",
          "data": {
            "image/png": "[encoded data removed]",
            "text/plain": [
              "<Figure size 432x288 with 1 Axes>"
            ]
          },
          "metadata": {
            "tags": [],
            "needs_background": "light"
          }
        }
      ]
    },
    {
      "cell_type": "code",
      "metadata": {
        "colab": {
          "base_uri": "https://localhost:8080/",
          "height": 106
        },
        "id": "tg9PjawcM1MI",
        "outputId": "c1d65470-67b5-4482-f5f2-6b43cb1dcae1"
      },
      "source": [
        "learn.fit_one_cycle(2, min_grad_lr)"
      ],
      "execution_count": null,
      "outputs": [
        {
          "output_type": "display_data",
          "data": {
            "text/html": [
              "<table border=\"1\" class=\"dataframe\">\n",
              "  <thead>\n",
              "    <tr style=\"text-align: left;\">\n",
              "      <th>epoch</th>\n",
              "      <th>train_loss</th>\n",
              "      <th>valid_loss</th>\n",
              "      <th>accuracy</th>\n",
              "      <th>time</th>\n",
              "    </tr>\n",
              "  </thead>\n",
              "  <tbody>\n",
              "    <tr>\n",
              "      <td>0</td>\n",
              "      <td>4.085616</td>\n",
              "      <td>3.507699</td>\n",
              "      <td>0.395480</td>\n",
              "      <td>09:50</td>\n",
              "    </tr>\n",
              "    <tr>\n",
              "      <td>1</td>\n",
              "      <td>3.326001</td>\n",
              "      <td>3.220638</td>\n",
              "      <td>0.427556</td>\n",
              "      <td>09:50</td>\n",
              "    </tr>\n",
              "  </tbody>\n",
              "</table>"
            ],
            "text/plain": [
              "<IPython.core.display.HTML object>"
            ]
          },
          "metadata": {
            "tags": []
          }
        }
      ]
    },
    {
      "cell_type": "code",
      "metadata": {
        "colab": {
          "base_uri": "https://localhost:8080/",
          "height": 106
        },
        "id": "mcy55Pf0M1SP",
        "outputId": "9537be43-9868-494e-fafd-5ec5d35bbe54"
      },
      "source": [
        "# unfreezing weights and training the rest of the NN\n",
        "learn.unfreeze()\n",
        "learn.fit_one_cycle(2, 1e-3)"
      ],
      "execution_count": null,
      "outputs": [
        {
          "output_type": "display_data",
          "data": {
            "text/html": [
              "<table border=\"1\" class=\"dataframe\">\n",
              "  <thead>\n",
              "    <tr style=\"text-align: left;\">\n",
              "      <th>epoch</th>\n",
              "      <th>train_loss</th>\n",
              "      <th>valid_loss</th>\n",
              "      <th>accuracy</th>\n",
              "      <th>time</th>\n",
              "    </tr>\n",
              "  </thead>\n",
              "  <tbody>\n",
              "    <tr>\n",
              "      <td>0</td>\n",
              "      <td>2.609941</td>\n",
              "      <td>3.041836</td>\n",
              "      <td>0.453036</td>\n",
              "      <td>14:38</td>\n",
              "    </tr>\n",
              "    <tr>\n",
              "      <td>1</td>\n",
              "      <td>2.349800</td>\n",
              "      <td>3.040509</td>\n",
              "      <td>0.458694</td>\n",
              "      <td>14:35</td>\n",
              "    </tr>\n",
              "  </tbody>\n",
              "</table>"
            ],
            "text/plain": [
              "<IPython.core.display.HTML object>"
            ]
          },
          "metadata": {
            "tags": []
          }
        }
      ]
    },
    {
      "cell_type": "code",
      "metadata": {
        "id": "ZTG3y0dESzBU"
      },
      "source": [
        ""
      ],
      "execution_count": null,
      "outputs": []
    },
    {
      "cell_type": "code",
      "metadata": {
        "id": "1p88Jem2M1Wq"
      },
      "source": [
        "learn.save_encoder('ft_enc')"
      ],
      "execution_count": null,
      "outputs": []
    },
    {
      "cell_type": "code",
      "metadata": {
        "colab": {
          "base_uri": "https://localhost:8080/"
        },
        "id": "l_jxcRDLM1Zi",
        "outputId": "625ac1cd-8fdc-4bc7-b8b6-7ac21acf1171"
      },
      "source": [
        "learn = text_classifier_learner(data_clas, AWD_LSTM, drop_mult=0.5)\n",
        "learn.load_encoder('ft_enc')"
      ],
      "execution_count": null,
      "outputs": [
        {
          "output_type": "execute_result",
          "data": {
            "text/plain": [
              "RNNLearner(data=TextClasDataBunch;\n",
              "\n",
              "Train: LabelList (6420 items)\n",
              "x: TextList\n",
              "xxbos xxmaj the xxup cdc currently reports xxunk deaths . xxmaj in general the xxunk in death counts between different sources are small and xxunk . xxmaj the death toll stands at roughly 1 xxrep 5 0 people today .,xxbos xxmaj states reported xxunk deaths a small rise from last xxmaj tuesday . xxmaj southern states reported xxunk of those deaths . https : / / t.co / xxunk,xxbos xxmaj politically xxmaj correct xxmaj woman ( xxmaj almost ) xxmaj uses xxmaj pandemic as xxmaj excuse xxmaj not to xxmaj xxunk xxmaj plastic xxmaj bag https : / / t.co / xxunk # coronavirus # nashville,xxbos # indiafightscorona : xxmaj we have xxunk # xxup covid testing laboratories in xxmaj india and as on 25th xxmaj august 2020 xxunk tests have been done : @profbhargava xxup dg xxup @icmrdelhi # staysafe # indiawillwin https : / / t.co / xxunk,xxbos xxmaj populous states can generate large case counts but if you look at the new cases per million today 9 smaller states are showing more cases per million than xxmaj california or xxmaj texas : xxup al xxup ar xxup id xxup ks xxup ky xxup la xxup ms xxup nv and xxup sc . https : / / t.co / xxunk\n",
              "y: CategoryList\n",
              "real,real,fake,real,real\n",
              "Path: .;\n",
              "\n",
              "Valid: LabelList (2140 items)\n",
              "x: TextList\n",
              "xxbos xxmaj chinese xxunk to xxmaj islam after xxunk that no muslim was affected by # xxmaj coronavirus # xxup xxunk in the country,xxbos 11 out of 13 people ( from the xxmaj diamond xxmaj princess xxmaj cruise ship ) who had xxunk tested negative in tests in xxmaj japan were later confirmed to be positive in the xxmaj united xxmaj states .,xxbos xxup covid-19 xxmaj is xxmaj caused xxmaj by a xxmaj bacterium , xxmaj not xxmaj virus xxmaj and xxmaj can xxmaj be xxmaj treated xxmaj with xxmaj aspirin,xxbos xxmaj mike xxmaj pence in xxup xxunk speech xxunk xxmaj donald xxmaj trump ’s xxup covid-19 “ seamless ” partnership with governors and leaves out the president 's state xxunk : https : / / t.co / xxunk # xxup rnc2020 https : / / t.co / xxunk,xxbos 6 / 10 xxmaj sky 's xxunk explains the latest # xxup covid19 data and government announcement . xxmaj get more on the # coronavirus data here 👇 https : / / t.co / xxunk https : / / t.co / xxunk\n",
              "y: CategoryList\n",
              "fake,fake,fake,fake,real\n",
              "Path: .;\n",
              "\n",
              "Test: None, model=SequentialRNN(\n",
              "  (0): MultiBatchEncoder(\n",
              "    (module): AWD_LSTM(\n",
              "      (encoder): Embedding(7648, 400, padding_idx=1)\n",
              "      (encoder_dp): EmbeddingDropout(\n",
              "        (emb): Embedding(7648, 400, padding_idx=1)\n",
              "      )\n",
              "      (rnns): ModuleList(\n",
              "        (0): WeightDropout(\n",
              "          (module): LSTM(400, 1152, batch_first=True)\n",
              "        )\n",
              "        (1): WeightDropout(\n",
              "          (module): LSTM(1152, 1152, batch_first=True)\n",
              "        )\n",
              "        (2): WeightDropout(\n",
              "          (module): LSTM(1152, 400, batch_first=True)\n",
              "        )\n",
              "      )\n",
              "      (input_dp): RNNDropout()\n",
              "      (hidden_dps): ModuleList(\n",
              "        (0): RNNDropout()\n",
              "        (1): RNNDropout()\n",
              "        (2): RNNDropout()\n",
              "      )\n",
              "    )\n",
              "  )\n",
              "  (1): PoolingLinearClassifier(\n",
              "    (layers): Sequential(\n",
              "      (0): BatchNorm1d(1200, eps=1e-05, momentum=0.1, affine=True, track_running_stats=True)\n",
              "      (1): Dropout(p=0.2, inplace=False)\n",
              "      (2): Linear(in_features=1200, out_features=50, bias=True)\n",
              "      (3): ReLU(inplace=True)\n",
              "      (4): BatchNorm1d(50, eps=1e-05, momentum=0.1, affine=True, track_running_stats=True)\n",
              "      (5): Dropout(p=0.1, inplace=False)\n",
              "      (6): Linear(in_features=50, out_features=2, bias=True)\n",
              "    )\n",
              "  )\n",
              "), opt_func=functools.partial(<class 'torch.optim.adam.Adam'>, betas=(0.9, 0.99)), loss_func=FlattenedLoss of CrossEntropyLoss(), metrics=[<function accuracy at 0x7fd17683ad90>], true_wd=True, bn_wd=True, wd=0.01, train_bn=True, path=PosixPath('.'), model_dir='models', callback_fns=[functools.partial(<class 'fastai.basic_train.Recorder'>, add_time=True, silent=False)], callbacks=[RNNTrainer\n",
              "learn: RNNLearner(data=TextClasDataBunch;\n",
              "\n",
              "Train: LabelList (6420 items)\n",
              "x: TextList\n",
              "xxbos xxmaj the xxup cdc currently reports xxunk deaths . xxmaj in general the xxunk in death counts between different sources are small and xxunk . xxmaj the death toll stands at roughly 1 xxrep 5 0 people today .,xxbos xxmaj states reported xxunk deaths a small rise from last xxmaj tuesday . xxmaj southern states reported xxunk of those deaths . https : / / t.co / xxunk,xxbos xxmaj politically xxmaj correct xxmaj woman ( xxmaj almost ) xxmaj uses xxmaj pandemic as xxmaj excuse xxmaj not to xxmaj xxunk xxmaj plastic xxmaj bag https : / / t.co / xxunk # coronavirus # nashville,xxbos # indiafightscorona : xxmaj we have xxunk # xxup covid testing laboratories in xxmaj india and as on 25th xxmaj august 2020 xxunk tests have been done : @profbhargava xxup dg xxup @icmrdelhi # staysafe # indiawillwin https : / / t.co / xxunk,xxbos xxmaj populous states can generate large case counts but if you look at the new cases per million today 9 smaller states are showing more cases per million than xxmaj california or xxmaj texas : xxup al xxup ar xxup id xxup ks xxup ky xxup la xxup ms xxup nv and xxup sc . https : / / t.co / xxunk\n",
              "y: CategoryList\n",
              "real,real,fake,real,real\n",
              "Path: .;\n",
              "\n",
              "Valid: LabelList (2140 items)\n",
              "x: TextList\n",
              "xxbos xxmaj chinese xxunk to xxmaj islam after xxunk that no muslim was affected by # xxmaj coronavirus # xxup xxunk in the country,xxbos 11 out of 13 people ( from the xxmaj diamond xxmaj princess xxmaj cruise ship ) who had xxunk tested negative in tests in xxmaj japan were later confirmed to be positive in the xxmaj united xxmaj states .,xxbos xxup covid-19 xxmaj is xxmaj caused xxmaj by a xxmaj bacterium , xxmaj not xxmaj virus xxmaj and xxmaj can xxmaj be xxmaj treated xxmaj with xxmaj aspirin,xxbos xxmaj mike xxmaj pence in xxup xxunk speech xxunk xxmaj donald xxmaj trump ’s xxup covid-19 “ seamless ” partnership with governors and leaves out the president 's state xxunk : https : / / t.co / xxunk # xxup rnc2020 https : / / t.co / xxunk,xxbos 6 / 10 xxmaj sky 's xxunk explains the latest # xxup covid19 data and government announcement . xxmaj get more on the # coronavirus data here 👇 https : / / t.co / xxunk https : / / t.co / xxunk\n",
              "y: CategoryList\n",
              "fake,fake,fake,fake,real\n",
              "Path: .;\n",
              "\n",
              "Test: None, model=SequentialRNN(\n",
              "  (0): MultiBatchEncoder(\n",
              "    (module): AWD_LSTM(\n",
              "      (encoder): Embedding(7648, 400, padding_idx=1)\n",
              "      (encoder_dp): EmbeddingDropout(\n",
              "        (emb): Embedding(7648, 400, padding_idx=1)\n",
              "      )\n",
              "      (rnns): ModuleList(\n",
              "        (0): WeightDropout(\n",
              "          (module): LSTM(400, 1152, batch_first=True)\n",
              "        )\n",
              "        (1): WeightDropout(\n",
              "          (module): LSTM(1152, 1152, batch_first=True)\n",
              "        )\n",
              "        (2): WeightDropout(\n",
              "          (module): LSTM(1152, 400, batch_first=True)\n",
              "        )\n",
              "      )\n",
              "      (input_dp): RNNDropout()\n",
              "      (hidden_dps): ModuleList(\n",
              "        (0): RNNDropout()\n",
              "        (1): RNNDropout()\n",
              "        (2): RNNDropout()\n",
              "      )\n",
              "    )\n",
              "  )\n",
              "  (1): PoolingLinearClassifier(\n",
              "    (layers): Sequential(\n",
              "      (0): BatchNorm1d(1200, eps=1e-05, momentum=0.1, affine=True, track_running_stats=True)\n",
              "      (1): Dropout(p=0.2, inplace=False)\n",
              "      (2): Linear(in_features=1200, out_features=50, bias=True)\n",
              "      (3): ReLU(inplace=True)\n",
              "      (4): BatchNorm1d(50, eps=1e-05, momentum=0.1, affine=True, track_running_stats=True)\n",
              "      (5): Dropout(p=0.1, inplace=False)\n",
              "      (6): Linear(in_features=50, out_features=2, bias=True)\n",
              "    )\n",
              "  )\n",
              "), opt_func=functools.partial(<class 'torch.optim.adam.Adam'>, betas=(0.9, 0.99)), loss_func=FlattenedLoss of CrossEntropyLoss(), metrics=[<function accuracy at 0x7fd17683ad90>], true_wd=True, bn_wd=True, wd=0.01, train_bn=True, path=PosixPath('.'), model_dir='models', callback_fns=[functools.partial(<class 'fastai.basic_train.Recorder'>, add_time=True, silent=False)], callbacks=[...], layer_groups=[Sequential(\n",
              "  (0): Embedding(7648, 400, padding_idx=1)\n",
              "  (1): EmbeddingDropout(\n",
              "    (emb): Embedding(7648, 400, padding_idx=1)\n",
              "  )\n",
              "), Sequential(\n",
              "  (0): WeightDropout(\n",
              "    (module): LSTM(400, 1152, batch_first=True)\n",
              "  )\n",
              "  (1): RNNDropout()\n",
              "), Sequential(\n",
              "  (0): WeightDropout(\n",
              "    (module): LSTM(1152, 1152, batch_first=True)\n",
              "  )\n",
              "  (1): RNNDropout()\n",
              "), Sequential(\n",
              "  (0): WeightDropout(\n",
              "    (module): LSTM(1152, 400, batch_first=True)\n",
              "  )\n",
              "  (1): RNNDropout()\n",
              "), Sequential(\n",
              "  (0): PoolingLinearClassifier(\n",
              "    (layers): Sequential(\n",
              "      (0): BatchNorm1d(1200, eps=1e-05, momentum=0.1, affine=True, track_running_stats=True)\n",
              "      (1): Dropout(p=0.2, inplace=False)\n",
              "      (2): Linear(in_features=1200, out_features=50, bias=True)\n",
              "      (3): ReLU(inplace=True)\n",
              "      (4): BatchNorm1d(50, eps=1e-05, momentum=0.1, affine=True, track_running_stats=True)\n",
              "      (5): Dropout(p=0.1, inplace=False)\n",
              "      (6): Linear(in_features=50, out_features=2, bias=True)\n",
              "    )\n",
              "  )\n",
              ")], add_time=True, silent=False)\n",
              "alpha: 2.0\n",
              "beta: 1.0], layer_groups=[Sequential(\n",
              "  (0): Embedding(7648, 400, padding_idx=1)\n",
              "  (1): EmbeddingDropout(\n",
              "    (emb): Embedding(7648, 400, padding_idx=1)\n",
              "  )\n",
              "), Sequential(\n",
              "  (0): WeightDropout(\n",
              "    (module): LSTM(400, 1152, batch_first=True)\n",
              "  )\n",
              "  (1): RNNDropout()\n",
              "), Sequential(\n",
              "  (0): WeightDropout(\n",
              "    (module): LSTM(1152, 1152, batch_first=True)\n",
              "  )\n",
              "  (1): RNNDropout()\n",
              "), Sequential(\n",
              "  (0): WeightDropout(\n",
              "    (module): LSTM(1152, 400, batch_first=True)\n",
              "  )\n",
              "  (1): RNNDropout()\n",
              "), Sequential(\n",
              "  (0): PoolingLinearClassifier(\n",
              "    (layers): Sequential(\n",
              "      (0): BatchNorm1d(1200, eps=1e-05, momentum=0.1, affine=True, track_running_stats=True)\n",
              "      (1): Dropout(p=0.2, inplace=False)\n",
              "      (2): Linear(in_features=1200, out_features=50, bias=True)\n",
              "      (3): ReLU(inplace=True)\n",
              "      (4): BatchNorm1d(50, eps=1e-05, momentum=0.1, affine=True, track_running_stats=True)\n",
              "      (5): Dropout(p=0.1, inplace=False)\n",
              "      (6): Linear(in_features=50, out_features=2, bias=True)\n",
              "    )\n",
              "  )\n",
              ")], add_time=True, silent=False)"
            ]
          },
          "metadata": {
            "tags": []
          },
          "execution_count": 15
        }
      ]
    },
    {
      "cell_type": "code",
      "metadata": {
        "colab": {
          "base_uri": "https://localhost:8080/",
          "height": 409
        },
        "id": "iYtJBsq-M1Ub",
        "outputId": "0048ca8f-710b-4cb3-da75-1be5150509b0"
      },
      "source": [
        "learn.lr_find()\n",
        "learn.recorder.plot(suggestion=True)\n",
        "min_grad_lr = learn.recorder.min_grad_lr"
      ],
      "execution_count": null,
      "outputs": [
        {
          "output_type": "display_data",
          "data": {
            "text/html": [
              "\n",
              "    <div>\n",
              "        <style>\n",
              "            /* Turns off some styling */\n",
              "            progress {\n",
              "                /* gets rid of default border in Firefox and Opera. */\n",
              "                border: none;\n",
              "                /* Needs to be in here for Safari polyfill so background images work as expected. */\n",
              "                background-size: auto;\n",
              "            }\n",
              "            .progress-bar-interrupted, .progress-bar-interrupted::-webkit-progress-bar {\n",
              "                background: #F44336;\n",
              "            }\n",
              "        </style>\n",
              "      <progress value='0' class='' max='1' style='width:300px; height:20px; vertical-align: middle;'></progress>\n",
              "      0.00% [0/1 00:00<00:00]\n",
              "    </div>\n",
              "    \n",
              "<table border=\"1\" class=\"dataframe\">\n",
              "  <thead>\n",
              "    <tr style=\"text-align: left;\">\n",
              "      <th>epoch</th>\n",
              "      <th>train_loss</th>\n",
              "      <th>valid_loss</th>\n",
              "      <th>accuracy</th>\n",
              "      <th>time</th>\n",
              "    </tr>\n",
              "  </thead>\n",
              "  <tbody>\n",
              "  </tbody>\n",
              "</table><p>\n",
              "\n",
              "    <div>\n",
              "        <style>\n",
              "            /* Turns off some styling */\n",
              "            progress {\n",
              "                /* gets rid of default border in Firefox and Opera. */\n",
              "                border: none;\n",
              "                /* Needs to be in here for Safari polyfill so background images work as expected. */\n",
              "                background-size: auto;\n",
              "            }\n",
              "            .progress-bar-interrupted, .progress-bar-interrupted::-webkit-progress-bar {\n",
              "                background: #F44336;\n",
              "            }\n",
              "        </style>\n",
              "      <progress value='94' class='' max='200' style='width:300px; height:20px; vertical-align: middle;'></progress>\n",
              "      47.00% [94/200 02:56<03:19 2.1689]\n",
              "    </div>\n",
              "    "
            ],
            "text/plain": [
              "<IPython.core.display.HTML object>"
            ]
          },
          "metadata": {
            "tags": []
          }
        },
        {
          "output_type": "stream",
          "text": [
            "LR Finder is complete, type {learner_name}.recorder.plot() to see the graph.\n",
            "Min numerical gradient: 4.37E-01\n",
            "Min loss divided by 10: 1.91E-03\n"
          ],
          "name": "stdout"
        },
        {
          "output_type": "display_data",
          "data": {
            "image/png": "[encoded data removed]",
            "text/plain": [
              "<Figure size 432x288 with 1 Axes>"
            ]
          },
          "metadata": {
            "tags": [],
            "needs_background": "light"
          }
        }
      ]
    },
    {
      "cell_type": "code",
      "metadata": {
        "colab": {
          "base_uri": "https://localhost:8080/",
          "height": 106
        },
        "id": "jcPzNzvUM1PQ",
        "outputId": "063734e7-d11d-4a9d-e5e5-9b462be7dacb"
      },
      "source": [
        "learn.fit_one_cycle(2, min_grad_lr)"
      ],
      "execution_count": null,
      "outputs": [
        {
          "output_type": "display_data",
          "data": {
            "text/html": [
              "<table border=\"1\" class=\"dataframe\">\n",
              "  <thead>\n",
              "    <tr style=\"text-align: left;\">\n",
              "      <th>epoch</th>\n",
              "      <th>train_loss</th>\n",
              "      <th>valid_loss</th>\n",
              "      <th>accuracy</th>\n",
              "      <th>time</th>\n",
              "    </tr>\n",
              "  </thead>\n",
              "  <tbody>\n",
              "    <tr>\n",
              "      <td>0</td>\n",
              "      <td>1.942296</td>\n",
              "      <td>0.538808</td>\n",
              "      <td>0.862150</td>\n",
              "      <td>08:20</td>\n",
              "    </tr>\n",
              "    <tr>\n",
              "      <td>1</td>\n",
              "      <td>0.543862</td>\n",
              "      <td>0.266700</td>\n",
              "      <td>0.892056</td>\n",
              "      <td>07:47</td>\n",
              "    </tr>\n",
              "  </tbody>\n",
              "</table>"
            ],
            "text/plain": [
              "<IPython.core.display.HTML object>"
            ]
          },
          "metadata": {
            "tags": []
          }
        }
      ]
    },
    {
      "cell_type": "code",
      "metadata": {
        "colab": {
          "base_uri": "https://localhost:8080/",
          "height": 279
        },
        "id": "iMNz4bjaM1Jn",
        "outputId": "446557f4-1a22-4d37-e376-75d7909db00b"
      },
      "source": [
        "learn.recorder.plot_losses()"
      ],
      "execution_count": null,
      "outputs": [
        {
          "output_type": "display_data",
          "data": {
            "image/png": "[encoded data removed]",
            "text/plain": [
              "<Figure size 432x288 with 1 Axes>"
            ]
          },
          "metadata": {
            "tags": [],
            "needs_background": "light"
          }
        }
      ]
    },
    {
      "cell_type": "code",
      "metadata": {
        "colab": {
          "base_uri": "https://localhost:8080/",
          "height": 164
        },
        "id": "x3eRIgsQM1CJ",
        "outputId": "7cd04055-82d0-4924-bcfc-0c65332dc94d"
      },
      "source": [
        "learn.freeze_to(-2)\n",
        "learn.fit_one_cycle(4, slice(5e-3, 2e-3), moms=(0.8,0.7))"
      ],
      "execution_count": null,
      "outputs": [
        {
          "output_type": "display_data",
          "data": {
            "text/html": [
              "<table border=\"1\" class=\"dataframe\">\n",
              "  <thead>\n",
              "    <tr style=\"text-align: left;\">\n",
              "      <th>epoch</th>\n",
              "      <th>train_loss</th>\n",
              "      <th>valid_loss</th>\n",
              "      <th>accuracy</th>\n",
              "      <th>time</th>\n",
              "    </tr>\n",
              "  </thead>\n",
              "  <tbody>\n",
              "    <tr>\n",
              "      <td>0</td>\n",
              "      <td>0.357448</td>\n",
              "      <td>0.199902</td>\n",
              "      <td>0.927103</td>\n",
              "      <td>09:17</td>\n",
              "    </tr>\n",
              "    <tr>\n",
              "      <td>1</td>\n",
              "      <td>0.324712</td>\n",
              "      <td>0.148787</td>\n",
              "      <td>0.941589</td>\n",
              "      <td>08:44</td>\n",
              "    </tr>\n",
              "    <tr>\n",
              "      <td>2</td>\n",
              "      <td>0.290114</td>\n",
              "      <td>0.135687</td>\n",
              "      <td>0.948131</td>\n",
              "      <td>09:28</td>\n",
              "    </tr>\n",
              "    <tr>\n",
              "      <td>3</td>\n",
              "      <td>0.250017</td>\n",
              "      <td>0.122798</td>\n",
              "      <td>0.952804</td>\n",
              "      <td>09:10</td>\n",
              "    </tr>\n",
              "  </tbody>\n",
              "</table>"
            ],
            "text/plain": [
              "<IPython.core.display.HTML object>"
            ]
          },
          "metadata": {
            "tags": []
          }
        }
      ]
    },
    {
      "cell_type": "code",
      "metadata": {
        "id": "i5N_ux4SscNM",
        "colab": {
          "base_uri": "https://localhost:8080/",
          "height": 280
        },
        "outputId": "c5c341e2-2eb3-4abf-dbbd-751ee26ddcc5"
      },
      "source": [
        "learn.recorder.plot_losses()"
      ],
      "execution_count": null,
      "outputs": [
        {
          "output_type": "display_data",
          "data": {
            "image/png": "[encoded data removed]",
            "text/plain": [
              "<Figure size 432x288 with 1 Axes>"
            ]
          },
          "metadata": {
            "tags": [],
            "needs_background": "light"
          }
        }
      ]
    },
    {
      "cell_type": "code",
      "metadata": {
        "colab": {
          "base_uri": "https://localhost:8080/",
          "height": 280
        },
        "id": "c_yO7NwVscDN",
        "outputId": "fbdc8965-adf3-488b-9840-fae224636321"
      },
      "source": [
        "learn.recorder.plot_losses()"
      ],
      "execution_count": null,
      "outputs": [
        {
          "output_type": "display_data",
          "data": {
            "image/png": "[encoded data removed]",
            "text/plain": [
              "<Figure size 432x288 with 1 Axes>"
            ]
          },
          "metadata": {
            "tags": [],
            "needs_background": "light"
          }
        }
      ]
    },
    {
      "cell_type": "code",
      "metadata": {
        "colab": {
          "base_uri": "https://localhost:8080/",
          "height": 164
        },
        "id": "4fZGd2Q02YUR",
        "outputId": "f0a9a6db-8f33-4c0a-c851-55718a6a899e"
      },
      "source": [
        "#this will take bht zyada time to issey kal krunga\n",
        "learn.unfreeze()\n",
        "learn.fit_one_cycle(4, slice(2e-3/100, 2e-3), moms=(0.8,0.7))"
      ],
      "execution_count": null,
      "outputs": [
        {
          "output_type": "display_data",
          "data": {
            "text/html": [
              "<table border=\"1\" class=\"dataframe\">\n",
              "  <thead>\n",
              "    <tr style=\"text-align: left;\">\n",
              "      <th>epoch</th>\n",
              "      <th>train_loss</th>\n",
              "      <th>valid_loss</th>\n",
              "      <th>accuracy</th>\n",
              "      <th>time</th>\n",
              "    </tr>\n",
              "  </thead>\n",
              "  <tbody>\n",
              "    <tr>\n",
              "      <td>0</td>\n",
              "      <td>0.235751</td>\n",
              "      <td>0.126266</td>\n",
              "      <td>0.958411</td>\n",
              "      <td>22:31</td>\n",
              "    </tr>\n",
              "    <tr>\n",
              "      <td>1</td>\n",
              "      <td>0.181263</td>\n",
              "      <td>0.099549</td>\n",
              "      <td>0.963084</td>\n",
              "      <td>23:43</td>\n",
              "    </tr>\n",
              "    <tr>\n",
              "      <td>2</td>\n",
              "      <td>0.133540</td>\n",
              "      <td>0.095335</td>\n",
              "      <td>0.965421</td>\n",
              "      <td>25:49</td>\n",
              "    </tr>\n",
              "    <tr>\n",
              "      <td>3</td>\n",
              "      <td>0.112732</td>\n",
              "      <td>0.098147</td>\n",
              "      <td>0.966355</td>\n",
              "      <td>24:45</td>\n",
              "    </tr>\n",
              "  </tbody>\n",
              "</table>"
            ],
            "text/plain": [
              "<IPython.core.display.HTML object>"
            ]
          },
          "metadata": {
            "tags": []
          }
        }
      ]
    },
    {
      "cell_type": "code",
      "metadata": {
        "colab": {
          "base_uri": "https://localhost:8080/",
          "height": 311
        },
        "id": "gY8Rf-LK1l8f",
        "outputId": "571295d1-685f-4f4e-de8e-be4a99997a58"
      },
      "source": [
        "preds,y,losses = learn.get_preds(with_loss=True)\n",
        "interp = ClassificationInterpretation(learn, preds, y, losses)\n",
        "interp.plot_confusion_matrix()"
      ],
      "execution_count": null,
      "outputs": [
        {
          "output_type": "display_data",
          "data": {
            "text/html": [
              ""
            ],
            "text/plain": [
              "<IPython.core.display.HTML object>"
            ]
          },
          "metadata": {
            "tags": []
          }
        },
        {
          "output_type": "display_data",
          "data": {
            "image/png": "[encoded data removed]",
            "text/plain": [
              "<Figure size 432x288 with 1 Axes>"
            ]
          },
          "metadata": {
            "tags": [],
            "needs_background": "light"
          }
        }
      ]
    },
    {
      "cell_type": "code",
      "metadata": {
        "colab": {
          "base_uri": "https://localhost:8080/",
          "height": 194
        },
        "id": "lODWk4n-7qO8",
        "outputId": "c624a80a-b2ae-43b6-9007-c900546f5278"
      },
      "source": [
        "dfTest = pd.read_csv('testWithoutPreProcess.csv')\n",
        "dfTest.head()"
      ],
      "execution_count": null,
      "outputs": [
        {
          "output_type": "execute_result",
          "data": {
            "text/html": [
              "<div>\n",
              "<style scoped>\n",
              "    .dataframe tbody tr th:only-of-type {\n",
              "        vertical-align: middle;\n",
              "    }\n",
              "\n",
              "    .dataframe tbody tr th {\n",
              "        vertical-align: top;\n",
              "    }\n",
              "\n",
              "    .dataframe thead th {\n",
              "        text-align: right;\n",
              "    }\n",
              "</style>\n",
              "<table border=\"1\" class=\"dataframe\">\n",
              "  <thead>\n",
              "    <tr style=\"text-align: right;\">\n",
              "      <th></th>\n",
              "      <th>id</th>\n",
              "      <th>tweet</th>\n",
              "    </tr>\n",
              "  </thead>\n",
              "  <tbody>\n",
              "    <tr>\n",
              "      <th>0</th>\n",
              "      <td>1</td>\n",
              "      <td>Our daily update is published. States reported...</td>\n",
              "    </tr>\n",
              "    <tr>\n",
              "      <th>1</th>\n",
              "      <td>2</td>\n",
              "      <td>Alfalfa is the only cure for COVID-19.</td>\n",
              "    </tr>\n",
              "    <tr>\n",
              "      <th>2</th>\n",
              "      <td>3</td>\n",
              "      <td>President Trump Asked What He Would Do If He W...</td>\n",
              "    </tr>\n",
              "    <tr>\n",
              "      <th>3</th>\n",
              "      <td>4</td>\n",
              "      <td>States reported 630 deaths. We are still seein...</td>\n",
              "    </tr>\n",
              "    <tr>\n",
              "      <th>4</th>\n",
              "      <td>5</td>\n",
              "      <td>This is the sixth time a global health emergen...</td>\n",
              "    </tr>\n",
              "  </tbody>\n",
              "</table>\n",
              "</div>"
            ],
            "text/plain": [
              "   id                                              tweet\n",
              "0   1  Our daily update is published. States reported...\n",
              "1   2             Alfalfa is the only cure for COVID-19.\n",
              "2   3  President Trump Asked What He Would Do If He W...\n",
              "3   4  States reported 630 deaths. We are still seein...\n",
              "4   5  This is the sixth time a global health emergen..."
            ]
          },
          "metadata": {
            "tags": []
          },
          "execution_count": 24
        }
      ]
    },
    {
      "cell_type": "code",
      "metadata": {
        "id": "PLZtnj-D8Mpy"
      },
      "source": [
        "predictions = []\n",
        "for tweet in dfTest['tweet']:\n",
        "  a, b, c = learn.predict(tweet)\n",
        "  predictions.append(c)"
      ],
      "execution_count": null,
      "outputs": []
    },
    {
      "cell_type": "code",
      "metadata": {
        "colab": {
          "base_uri": "https://localhost:8080/"
        },
        "id": "nEf_CpOo8Ms_",
        "outputId": "791d5c2c-c0c8-4b83-d2f5-98ddedf98021"
      },
      "source": [
        "learn.predict(\"Last note: Washington DC's total test count fell by ~22% presumably pulling out antibody tests.\")"
      ],
      "execution_count": null,
      "outputs": [
        {
          "output_type": "execute_result",
          "data": {
            "text/plain": [
              "(Category tensor(1), tensor(1), tensor([0.0097, 0.9903]))"
            ]
          },
          "metadata": {
            "tags": []
          },
          "execution_count": 53
        }
      ]
    },
    {
      "cell_type": "code",
      "metadata": {
        "id": "fu--OKY78Mli"
      },
      "source": [
        "finalPred = []\n",
        "for prediction in predictions:\n",
        "  finalPred.append(prediction.numpy())"
      ],
      "execution_count": null,
      "outputs": []
    },
    {
      "cell_type": "code",
      "metadata": {
        "id": "HkaBZToP1mJu"
      },
      "source": [
        "i = 0\n",
        "for pred in finalPred:\n",
        "  if pred[0]>pred[1]:\n",
        "    finalPred[i]='fake'\n",
        "  else:\n",
        "    finalPred[i]='real'\n",
        "  i=i+1"
      ],
      "execution_count": null,
      "outputs": []
    },
    {
      "cell_type": "code",
      "metadata": {
        "colab": {
          "base_uri": "https://localhost:8080/"
        },
        "id": "Q3lXn7OkD6yr",
        "outputId": "ee3f00a8-36ba-4e2c-a755-5dc96e4f3db3"
      },
      "source": [
        "finalPred"
      ],
      "execution_count": null,
      "outputs": [
        {
          "output_type": "execute_result",
          "data": {
            "text/plain": [
              "['real',\n",
              " 'fake',\n",
              " 'fake',\n",
              " 'real',\n",
              " 'real',\n",
              " 'real',\n",
              " 'real',\n",
              " 'real',\n",
              " 'real',\n",
              " 'real',\n",
              " 'fake',\n",
              " 'fake',\n",
              " 'real',\n",
              " 'fake',\n",
              " 'fake',\n",
              " 'fake',\n",
              " 'fake',\n",
              " 'fake',\n",
              " 'real',\n",
              " 'real',\n",
              " 'fake',\n",
              " 'fake',\n",
              " 'real',\n",
              " 'fake',\n",
              " 'real',\n",
              " 'real',\n",
              " 'fake',\n",
              " 'fake',\n",
              " 'real',\n",
              " 'fake',\n",
              " 'fake',\n",
              " 'fake',\n",
              " 'real',\n",
              " 'fake',\n",
              " 'real',\n",
              " 'real',\n",
              " 'real',\n",
              " 'real',\n",
              " 'fake',\n",
              " 'real',\n",
              " 'real',\n",
              " 'fake',\n",
              " 'fake',\n",
              " 'fake',\n",
              " 'fake',\n",
              " 'real',\n",
              " 'real',\n",
              " 'fake',\n",
              " 'fake',\n",
              " 'real',\n",
              " 'fake',\n",
              " 'fake',\n",
              " 'fake',\n",
              " 'fake',\n",
              " 'fake',\n",
              " 'fake',\n",
              " 'real',\n",
              " 'fake',\n",
              " 'real',\n",
              " 'real',\n",
              " 'fake',\n",
              " 'real',\n",
              " 'fake',\n",
              " 'real',\n",
              " 'fake',\n",
              " 'fake',\n",
              " 'real',\n",
              " 'fake',\n",
              " 'real',\n",
              " 'real',\n",
              " 'real',\n",
              " 'fake',\n",
              " 'fake',\n",
              " 'real',\n",
              " 'real',\n",
              " 'real',\n",
              " 'real',\n",
              " 'real',\n",
              " 'fake',\n",
              " 'fake',\n",
              " 'real',\n",
              " 'fake',\n",
              " 'real',\n",
              " 'real',\n",
              " 'real',\n",
              " 'fake',\n",
              " 'real',\n",
              " 'real',\n",
              " 'real',\n",
              " 'fake',\n",
              " 'real',\n",
              " 'real',\n",
              " 'fake',\n",
              " 'fake',\n",
              " 'fake',\n",
              " 'real',\n",
              " 'fake',\n",
              " 'real',\n",
              " 'real',\n",
              " 'real',\n",
              " 'real',\n",
              " 'fake',\n",
              " 'fake',\n",
              " 'real',\n",
              " 'fake',\n",
              " 'real',\n",
              " 'real',\n",
              " 'real',\n",
              " 'real',\n",
              " 'real',\n",
              " 'real',\n",
              " 'fake',\n",
              " 'real',\n",
              " 'fake',\n",
              " 'real',\n",
              " 'real',\n",
              " 'fake',\n",
              " 'real',\n",
              " 'fake',\n",
              " 'fake',\n",
              " 'real',\n",
              " 'real',\n",
              " 'fake',\n",
              " 'real',\n",
              " 'real',\n",
              " 'real',\n",
              " 'real',\n",
              " 'real',\n",
              " 'fake',\n",
              " 'real',\n",
              " 'real',\n",
              " 'fake',\n",
              " 'real',\n",
              " 'fake',\n",
              " 'fake',\n",
              " 'fake',\n",
              " 'fake',\n",
              " 'real',\n",
              " 'fake',\n",
              " 'real',\n",
              " 'fake',\n",
              " 'fake',\n",
              " 'real',\n",
              " 'fake',\n",
              " 'real',\n",
              " 'real',\n",
              " 'real',\n",
              " 'real',\n",
              " 'real',\n",
              " 'real',\n",
              " 'real',\n",
              " 'real',\n",
              " 'fake',\n",
              " 'fake',\n",
              " 'fake',\n",
              " 'fake',\n",
              " 'real',\n",
              " 'real',\n",
              " 'fake',\n",
              " 'fake',\n",
              " 'fake',\n",
              " 'real',\n",
              " 'real',\n",
              " 'fake',\n",
              " 'fake',\n",
              " 'real',\n",
              " 'real',\n",
              " 'fake',\n",
              " 'fake',\n",
              " 'fake',\n",
              " 'real',\n",
              " 'real',\n",
              " 'real',\n",
              " 'real',\n",
              " 'fake',\n",
              " 'real',\n",
              " 'fake',\n",
              " 'fake',\n",
              " 'real',\n",
              " 'real',\n",
              " 'fake',\n",
              " 'real',\n",
              " 'real',\n",
              " 'real',\n",
              " 'real',\n",
              " 'fake',\n",
              " 'fake',\n",
              " 'real',\n",
              " 'fake',\n",
              " 'fake',\n",
              " 'fake',\n",
              " 'real',\n",
              " 'real',\n",
              " 'real',\n",
              " 'real',\n",
              " 'fake',\n",
              " 'real',\n",
              " 'real',\n",
              " 'real',\n",
              " 'real',\n",
              " 'real',\n",
              " 'real',\n",
              " 'fake',\n",
              " 'fake',\n",
              " 'real',\n",
              " 'fake',\n",
              " 'real',\n",
              " 'real',\n",
              " 'fake',\n",
              " 'real',\n",
              " 'real',\n",
              " 'fake',\n",
              " 'fake',\n",
              " 'fake',\n",
              " 'real',\n",
              " 'real',\n",
              " 'fake',\n",
              " 'fake',\n",
              " 'real',\n",
              " 'fake',\n",
              " 'real',\n",
              " 'real',\n",
              " 'real',\n",
              " 'real',\n",
              " 'fake',\n",
              " 'real',\n",
              " 'fake',\n",
              " 'real',\n",
              " 'fake',\n",
              " 'real',\n",
              " 'real',\n",
              " 'real',\n",
              " 'real',\n",
              " 'real',\n",
              " 'fake',\n",
              " 'real',\n",
              " 'fake',\n",
              " 'fake',\n",
              " 'real',\n",
              " 'fake',\n",
              " 'real',\n",
              " 'fake',\n",
              " 'real',\n",
              " 'real',\n",
              " 'fake',\n",
              " 'fake',\n",
              " 'real',\n",
              " 'real',\n",
              " 'real',\n",
              " 'fake',\n",
              " 'real',\n",
              " 'real',\n",
              " 'fake',\n",
              " 'real',\n",
              " 'fake',\n",
              " 'fake',\n",
              " 'real',\n",
              " 'fake',\n",
              " 'fake',\n",
              " 'real',\n",
              " 'real',\n",
              " 'real',\n",
              " 'fake',\n",
              " 'fake',\n",
              " 'real',\n",
              " 'fake',\n",
              " 'fake',\n",
              " 'fake',\n",
              " 'real',\n",
              " 'real',\n",
              " 'fake',\n",
              " 'real',\n",
              " 'real',\n",
              " 'fake',\n",
              " 'real',\n",
              " 'real',\n",
              " 'fake',\n",
              " 'real',\n",
              " 'fake',\n",
              " 'real',\n",
              " 'fake',\n",
              " 'fake',\n",
              " 'fake',\n",
              " 'fake',\n",
              " 'real',\n",
              " 'fake',\n",
              " 'real',\n",
              " 'fake',\n",
              " 'real',\n",
              " 'real',\n",
              " 'fake',\n",
              " 'fake',\n",
              " 'real',\n",
              " 'real',\n",
              " 'fake',\n",
              " 'real',\n",
              " 'fake',\n",
              " 'fake',\n",
              " 'real',\n",
              " 'real',\n",
              " 'real',\n",
              " 'fake',\n",
              " 'fake',\n",
              " 'real',\n",
              " 'real',\n",
              " 'real',\n",
              " 'fake',\n",
              " 'fake',\n",
              " 'real',\n",
              " 'real',\n",
              " 'real',\n",
              " 'real',\n",
              " 'fake',\n",
              " 'fake',\n",
              " 'real',\n",
              " 'fake',\n",
              " 'fake',\n",
              " 'fake',\n",
              " 'real',\n",
              " 'fake',\n",
              " 'fake',\n",
              " 'real',\n",
              " 'real',\n",
              " 'real',\n",
              " 'real',\n",
              " 'fake',\n",
              " 'real',\n",
              " 'fake',\n",
              " 'fake',\n",
              " 'fake',\n",
              " 'fake',\n",
              " 'real',\n",
              " 'fake',\n",
              " 'fake',\n",
              " 'fake',\n",
              " 'fake',\n",
              " 'fake',\n",
              " 'fake',\n",
              " 'fake',\n",
              " 'fake',\n",
              " 'real',\n",
              " 'real',\n",
              " 'real',\n",
              " 'fake',\n",
              " 'real',\n",
              " 'fake',\n",
              " 'fake',\n",
              " 'fake',\n",
              " 'real',\n",
              " 'fake',\n",
              " 'real',\n",
              " 'fake',\n",
              " 'fake',\n",
              " 'fake',\n",
              " 'real',\n",
              " 'fake',\n",
              " 'fake',\n",
              " 'real',\n",
              " 'fake',\n",
              " 'real',\n",
              " 'real',\n",
              " 'real',\n",
              " 'real',\n",
              " 'fake',\n",
              " 'fake',\n",
              " 'real',\n",
              " 'fake',\n",
              " 'real',\n",
              " 'real',\n",
              " 'fake',\n",
              " 'fake',\n",
              " 'real',\n",
              " 'real',\n",
              " 'real',\n",
              " 'real',\n",
              " 'real',\n",
              " 'real',\n",
              " 'real',\n",
              " 'fake',\n",
              " 'real',\n",
              " 'real',\n",
              " 'real',\n",
              " 'real',\n",
              " 'real',\n",
              " 'fake',\n",
              " 'fake',\n",
              " 'real',\n",
              " 'real',\n",
              " 'real',\n",
              " 'fake',\n",
              " 'real',\n",
              " 'real',\n",
              " 'real',\n",
              " 'fake',\n",
              " 'real',\n",
              " 'fake',\n",
              " 'fake',\n",
              " 'fake',\n",
              " 'fake',\n",
              " 'fake',\n",
              " 'real',\n",
              " 'fake',\n",
              " 'fake',\n",
              " 'real',\n",
              " 'real',\n",
              " 'real',\n",
              " 'real',\n",
              " 'fake',\n",
              " 'fake',\n",
              " 'real',\n",
              " 'real',\n",
              " 'real',\n",
              " 'real',\n",
              " 'real',\n",
              " 'real',\n",
              " 'fake',\n",
              " 'real',\n",
              " 'fake',\n",
              " 'real',\n",
              " 'real',\n",
              " 'real',\n",
              " 'real',\n",
              " 'real',\n",
              " 'real',\n",
              " 'real',\n",
              " 'fake',\n",
              " 'fake',\n",
              " 'real',\n",
              " 'fake',\n",
              " 'real',\n",
              " 'fake',\n",
              " 'real',\n",
              " 'real',\n",
              " 'real',\n",
              " 'fake',\n",
              " 'fake',\n",
              " 'real',\n",
              " 'real',\n",
              " 'real',\n",
              " 'real',\n",
              " 'real',\n",
              " 'real',\n",
              " 'fake',\n",
              " 'fake',\n",
              " 'real',\n",
              " 'real',\n",
              " 'fake',\n",
              " 'fake',\n",
              " 'fake',\n",
              " 'fake',\n",
              " 'real',\n",
              " 'real',\n",
              " 'fake',\n",
              " 'real',\n",
              " 'real',\n",
              " 'fake',\n",
              " 'real',\n",
              " 'fake',\n",
              " 'fake',\n",
              " 'fake',\n",
              " 'fake',\n",
              " 'fake',\n",
              " 'fake',\n",
              " 'fake',\n",
              " 'real',\n",
              " 'fake',\n",
              " 'real',\n",
              " 'fake',\n",
              " 'real',\n",
              " 'real',\n",
              " 'fake',\n",
              " 'fake',\n",
              " 'fake',\n",
              " 'fake',\n",
              " 'real',\n",
              " 'fake',\n",
              " 'fake',\n",
              " 'fake',\n",
              " 'fake',\n",
              " 'real',\n",
              " 'fake',\n",
              " 'real',\n",
              " 'fake',\n",
              " 'fake',\n",
              " 'real',\n",
              " 'fake',\n",
              " 'fake',\n",
              " 'real',\n",
              " 'real',\n",
              " 'fake',\n",
              " 'fake',\n",
              " 'fake',\n",
              " 'fake',\n",
              " 'fake',\n",
              " 'fake',\n",
              " 'real',\n",
              " 'fake',\n",
              " 'fake',\n",
              " 'fake',\n",
              " 'real',\n",
              " 'real',\n",
              " 'fake',\n",
              " 'fake',\n",
              " 'fake',\n",
              " 'fake',\n",
              " 'real',\n",
              " 'fake',\n",
              " 'real',\n",
              " 'fake',\n",
              " 'fake',\n",
              " 'fake',\n",
              " 'fake',\n",
              " 'fake',\n",
              " 'real',\n",
              " 'real',\n",
              " 'real',\n",
              " 'real',\n",
              " 'fake',\n",
              " 'fake',\n",
              " 'real',\n",
              " 'fake',\n",
              " 'real',\n",
              " 'fake',\n",
              " 'real',\n",
              " 'real',\n",
              " 'fake',\n",
              " 'fake',\n",
              " 'real',\n",
              " 'fake',\n",
              " 'fake',\n",
              " 'fake',\n",
              " 'real',\n",
              " 'real',\n",
              " 'real',\n",
              " 'real',\n",
              " 'fake',\n",
              " 'real',\n",
              " 'real',\n",
              " 'real',\n",
              " 'fake',\n",
              " 'real',\n",
              " 'real',\n",
              " 'real',\n",
              " 'fake',\n",
              " 'fake',\n",
              " 'fake',\n",
              " 'fake',\n",
              " 'fake',\n",
              " 'real',\n",
              " 'real',\n",
              " 'fake',\n",
              " 'real',\n",
              " 'fake',\n",
              " 'fake',\n",
              " 'real',\n",
              " 'real',\n",
              " 'fake',\n",
              " 'real',\n",
              " 'real',\n",
              " 'real',\n",
              " 'real',\n",
              " 'real',\n",
              " 'real',\n",
              " 'real',\n",
              " 'real',\n",
              " 'real',\n",
              " 'real',\n",
              " 'fake',\n",
              " 'fake',\n",
              " 'fake',\n",
              " 'fake',\n",
              " 'real',\n",
              " 'fake',\n",
              " 'fake',\n",
              " 'real',\n",
              " 'real',\n",
              " 'fake',\n",
              " 'fake',\n",
              " 'fake',\n",
              " 'fake',\n",
              " 'fake',\n",
              " 'real',\n",
              " 'fake',\n",
              " 'real',\n",
              " 'real',\n",
              " 'real',\n",
              " 'real',\n",
              " 'fake',\n",
              " 'real',\n",
              " 'real',\n",
              " 'fake',\n",
              " 'real',\n",
              " 'real',\n",
              " 'real',\n",
              " 'fake',\n",
              " 'real',\n",
              " 'real',\n",
              " 'real',\n",
              " 'fake',\n",
              " 'real',\n",
              " 'fake',\n",
              " 'fake',\n",
              " 'real',\n",
              " 'fake',\n",
              " 'fake',\n",
              " 'real',\n",
              " 'fake',\n",
              " 'fake',\n",
              " 'fake',\n",
              " 'real',\n",
              " 'fake',\n",
              " 'real',\n",
              " 'fake',\n",
              " 'fake',\n",
              " 'real',\n",
              " 'real',\n",
              " 'real',\n",
              " 'real',\n",
              " 'fake',\n",
              " 'fake',\n",
              " 'fake',\n",
              " 'real',\n",
              " 'real',\n",
              " 'real',\n",
              " 'fake',\n",
              " 'real',\n",
              " 'fake',\n",
              " 'fake',\n",
              " 'real',\n",
              " 'real',\n",
              " 'real',\n",
              " 'fake',\n",
              " 'fake',\n",
              " 'fake',\n",
              " 'real',\n",
              " 'real',\n",
              " 'real',\n",
              " 'real',\n",
              " 'real',\n",
              " 'fake',\n",
              " 'fake',\n",
              " 'fake',\n",
              " 'fake',\n",
              " 'fake',\n",
              " 'real',\n",
              " 'fake',\n",
              " 'fake',\n",
              " 'real',\n",
              " 'real',\n",
              " 'fake',\n",
              " 'real',\n",
              " 'real',\n",
              " 'fake',\n",
              " 'real',\n",
              " 'real',\n",
              " 'fake',\n",
              " 'real',\n",
              " 'fake',\n",
              " 'fake',\n",
              " 'fake',\n",
              " 'fake',\n",
              " 'fake',\n",
              " 'real',\n",
              " 'fake',\n",
              " 'real',\n",
              " 'real',\n",
              " 'fake',\n",
              " 'fake',\n",
              " 'fake',\n",
              " 'fake',\n",
              " 'real',\n",
              " 'real',\n",
              " 'real',\n",
              " 'fake',\n",
              " 'real',\n",
              " 'real',\n",
              " 'fake',\n",
              " 'fake',\n",
              " 'real',\n",
              " 'fake',\n",
              " 'real',\n",
              " 'real',\n",
              " 'real',\n",
              " 'real',\n",
              " 'fake',\n",
              " 'real',\n",
              " 'real',\n",
              " 'fake',\n",
              " 'fake',\n",
              " 'fake',\n",
              " 'real',\n",
              " 'real',\n",
              " 'fake',\n",
              " 'fake',\n",
              " 'real',\n",
              " 'real',\n",
              " 'real',\n",
              " 'real',\n",
              " 'real',\n",
              " 'fake',\n",
              " 'real',\n",
              " 'real',\n",
              " 'real',\n",
              " 'real',\n",
              " 'real',\n",
              " 'real',\n",
              " 'fake',\n",
              " 'real',\n",
              " 'real',\n",
              " 'fake',\n",
              " 'real',\n",
              " 'fake',\n",
              " 'real',\n",
              " 'fake',\n",
              " 'fake',\n",
              " 'real',\n",
              " 'fake',\n",
              " 'fake',\n",
              " 'fake',\n",
              " 'fake',\n",
              " 'fake',\n",
              " 'real',\n",
              " 'real',\n",
              " 'real',\n",
              " 'fake',\n",
              " 'real',\n",
              " 'real',\n",
              " 'fake',\n",
              " 'fake',\n",
              " 'real',\n",
              " 'fake',\n",
              " 'real',\n",
              " 'real',\n",
              " 'real',\n",
              " 'fake',\n",
              " 'fake',\n",
              " 'fake',\n",
              " 'fake',\n",
              " 'fake',\n",
              " 'real',\n",
              " 'real',\n",
              " 'real',\n",
              " 'fake',\n",
              " 'fake',\n",
              " 'fake',\n",
              " 'fake',\n",
              " 'real',\n",
              " 'fake',\n",
              " 'real',\n",
              " 'real',\n",
              " 'fake',\n",
              " 'real',\n",
              " 'fake',\n",
              " 'real',\n",
              " 'real',\n",
              " 'real',\n",
              " 'fake',\n",
              " 'fake',\n",
              " 'fake',\n",
              " 'fake',\n",
              " 'real',\n",
              " 'real',\n",
              " 'real',\n",
              " 'real',\n",
              " 'fake',\n",
              " 'real',\n",
              " 'real',\n",
              " 'fake',\n",
              " 'fake',\n",
              " 'real',\n",
              " 'real',\n",
              " 'real',\n",
              " 'fake',\n",
              " 'fake',\n",
              " 'fake',\n",
              " 'real',\n",
              " 'real',\n",
              " 'real',\n",
              " 'real',\n",
              " 'real',\n",
              " 'real',\n",
              " 'fake',\n",
              " 'fake',\n",
              " 'real',\n",
              " 'real',\n",
              " 'real',\n",
              " 'fake',\n",
              " 'real',\n",
              " 'real',\n",
              " 'real',\n",
              " 'real',\n",
              " 'fake',\n",
              " 'real',\n",
              " 'real',\n",
              " 'fake',\n",
              " 'real',\n",
              " 'fake',\n",
              " 'real',\n",
              " 'fake',\n",
              " 'real',\n",
              " 'real',\n",
              " 'real',\n",
              " 'fake',\n",
              " 'fake',\n",
              " 'fake',\n",
              " 'fake',\n",
              " 'real',\n",
              " 'real',\n",
              " 'real',\n",
              " 'real',\n",
              " 'fake',\n",
              " 'fake',\n",
              " 'fake',\n",
              " 'real',\n",
              " 'real',\n",
              " 'fake',\n",
              " 'fake',\n",
              " 'fake',\n",
              " 'real',\n",
              " 'real',\n",
              " 'fake',\n",
              " 'real',\n",
              " 'fake',\n",
              " 'real',\n",
              " 'fake',\n",
              " 'real',\n",
              " 'real',\n",
              " 'fake',\n",
              " 'fake',\n",
              " 'fake',\n",
              " 'fake',\n",
              " 'fake',\n",
              " 'fake',\n",
              " 'real',\n",
              " 'fake',\n",
              " 'fake',\n",
              " 'fake',\n",
              " 'fake',\n",
              " 'real',\n",
              " 'fake',\n",
              " 'real',\n",
              " 'real',\n",
              " 'fake',\n",
              " 'real',\n",
              " 'real',\n",
              " 'fake',\n",
              " 'fake',\n",
              " 'fake',\n",
              " 'real',\n",
              " 'real',\n",
              " 'fake',\n",
              " 'real',\n",
              " 'fake',\n",
              " 'real',\n",
              " 'real',\n",
              " 'real',\n",
              " 'real',\n",
              " 'real',\n",
              " 'fake',\n",
              " 'real',\n",
              " 'real',\n",
              " 'fake',\n",
              " 'fake',\n",
              " 'real',\n",
              " 'real',\n",
              " 'fake',\n",
              " 'real',\n",
              " 'real',\n",
              " 'real',\n",
              " 'real',\n",
              " 'real',\n",
              " 'real',\n",
              " 'real',\n",
              " 'real',\n",
              " 'real',\n",
              " 'real',\n",
              " 'real',\n",
              " 'real',\n",
              " 'real',\n",
              " 'real',\n",
              " 'real',\n",
              " 'real',\n",
              " 'real',\n",
              " 'real',\n",
              " 'real',\n",
              " 'real',\n",
              " 'fake',\n",
              " 'fake',\n",
              " 'real',\n",
              " 'fake',\n",
              " 'fake',\n",
              " 'real',\n",
              " 'fake',\n",
              " 'real',\n",
              " 'real',\n",
              " 'fake',\n",
              " 'fake',\n",
              " 'real',\n",
              " 'real',\n",
              " 'fake',\n",
              " 'real',\n",
              " 'fake',\n",
              " 'fake',\n",
              " 'real',\n",
              " 'real',\n",
              " 'fake',\n",
              " 'real',\n",
              " 'real',\n",
              " 'fake',\n",
              " 'real',\n",
              " 'fake',\n",
              " 'real',\n",
              " 'fake',\n",
              " 'fake',\n",
              " 'real',\n",
              " 'real',\n",
              " 'fake',\n",
              " 'fake',\n",
              " 'real',\n",
              " 'real',\n",
              " 'fake',\n",
              " 'fake',\n",
              " 'real',\n",
              " 'real',\n",
              " 'real',\n",
              " 'real',\n",
              " 'fake',\n",
              " 'fake',\n",
              " 'real',\n",
              " 'fake',\n",
              " 'real',\n",
              " 'real',\n",
              " 'fake',\n",
              " 'fake',\n",
              " 'real',\n",
              " 'real',\n",
              " 'real',\n",
              " 'real',\n",
              " 'real',\n",
              " 'fake',\n",
              " 'fake',\n",
              " 'real',\n",
              " 'fake',\n",
              " 'real',\n",
              " 'real',\n",
              " 'real',\n",
              " 'real',\n",
              " 'real',\n",
              " 'fake',\n",
              " 'fake',\n",
              " 'fake',\n",
              " 'fake',\n",
              " 'fake',\n",
              " 'real',\n",
              " 'fake',\n",
              " 'real',\n",
              " 'fake',\n",
              " 'fake',\n",
              " 'real',\n",
              " 'real',\n",
              " 'fake',\n",
              " 'real',\n",
              " 'fake',\n",
              " 'fake',\n",
              " 'real',\n",
              " 'real',\n",
              " 'fake',\n",
              " 'real',\n",
              " 'real',\n",
              " 'fake',\n",
              " 'real',\n",
              " 'fake',\n",
              " 'fake',\n",
              " 'fake',\n",
              " 'real',\n",
              " 'fake',\n",
              " 'real',\n",
              " 'fake',\n",
              " 'real',\n",
              " 'fake',\n",
              " 'fake',\n",
              " 'fake',\n",
              " 'fake',\n",
              " 'real',\n",
              " 'fake',\n",
              " 'real',\n",
              " 'fake',\n",
              " 'fake',\n",
              " 'fake',\n",
              " 'real',\n",
              " 'fake',\n",
              " 'real',\n",
              " 'fake',\n",
              " 'fake',\n",
              " 'real',\n",
              " 'real',\n",
              " 'fake',\n",
              " 'real',\n",
              " 'real',\n",
              " 'fake',\n",
              " ...]"
            ]
          },
          "metadata": {
            "tags": []
          },
          "execution_count": 60
        }
      ]
    },
    {
      "cell_type": "code",
      "metadata": {
        "id": "yauvBxplD63P"
      },
      "source": [
        "finalSubmissionDataFrame = pd.DataFrame(data=finalPred, columns=['label'])"
      ],
      "execution_count": null,
      "outputs": []
    },
    {
      "cell_type": "code",
      "metadata": {
        "id": "azRHKhSkD61B"
      },
      "source": [
        "finalSubmissionDataFrame.to_csv('submission.csv')"
      ],
      "execution_count": null,
      "outputs": []
    },
    {
      "cell_type": "code",
      "metadata": {
        "id": "_3cCxoktD6wT"
      },
      "source": [
        "learn.export()"
      ],
      "execution_count": null,
      "outputs": []
    },
    {
      "cell_type": "code",
      "metadata": {
        "id": "18QiXXQI1l14"
      },
      "source": [
        ""
      ],
      "execution_count": null,
      "outputs": []
    }
  ]
}